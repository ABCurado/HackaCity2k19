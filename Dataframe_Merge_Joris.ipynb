{
 "cells": [
  {
   "cell_type": "markdown",
   "metadata": {},
   "source": [
    "In this workbook we want to merge all data into one final dataframe, that is used as the basis for the heatmap.\n",
    "The structure should be like:\n",
    "\n",
    "x | y | dist_educ | dist_... | ... | scaled_dist_educ | scaled_dist_... | ... | final_measure"
   ]
  },
  {
   "cell_type": "code",
   "execution_count": 1,
   "metadata": {},
   "outputs": [],
   "source": [
    "import pandas as pd"
   ]
  },
  {
   "cell_type": "code",
   "execution_count": 2,
   "metadata": {},
   "outputs": [],
   "source": [
    "# import the datapoints for the Porto grid\n",
    "df = pd.read_csv(\"gridref.csv\", sep=\"\\t\")"
   ]
  },
  {
   "cell_type": "code",
   "execution_count": 3,
   "metadata": {},
   "outputs": [],
   "source": [
    "df = df.drop(['Unnamed: 0'], axis=1)"
   ]
  },
  {
   "cell_type": "code",
   "execution_count": 133,
   "metadata": {},
   "outputs": [],
   "source": [
    "# import green areas\n",
    "df_green = pd.read_csv(\"Data/green_areas_df.csv\", sep=\"\\t\")"
   ]
  },
  {
   "cell_type": "code",
   "execution_count": 134,
   "metadata": {},
   "outputs": [],
   "source": [
    "# import preschools\n",
    "df_ed_pre = pd.read_csv(\"Data/Education/preschools.csv\")"
   ]
  },
  {
   "cell_type": "code",
   "execution_count": 135,
   "metadata": {},
   "outputs": [],
   "source": [
    "# import primary schools\n",
    "df_ed_prim = pd.read_csv(\"Data/Education/primaryschools.csv\")"
   ]
  },
  {
   "cell_type": "code",
   "execution_count": 136,
   "metadata": {},
   "outputs": [],
   "source": [
    "# import secondary schools\n",
    "df_ed_second = pd.read_csv(\"Data/Education/secondaryschools.csv\")"
   ]
  },
  {
   "cell_type": "code",
   "execution_count": 137,
   "metadata": {},
   "outputs": [],
   "source": [
    "# import superior schools\n",
    "df_ed_sup = pd.read_csv(\"Data/Education/superiorschools.csv\")"
   ]
  },
  {
   "cell_type": "code",
   "execution_count": 138,
   "metadata": {},
   "outputs": [],
   "source": [
    "# import bus\n",
    "df_pt_bus = pd.read_csv(\"Data/PublicTransport/bus_stops.csv\")"
   ]
  },
  {
   "cell_type": "code",
   "execution_count": 139,
   "metadata": {},
   "outputs": [],
   "source": [
    "# import metro\n",
    "df_pt_metro = pd.read_csv(\"Data/PublicTransport/metro_stations.csv\")"
   ]
  },
  {
   "cell_type": "code",
   "execution_count": 140,
   "metadata": {},
   "outputs": [],
   "source": [
    "# import landfill dumps\n",
    "df_lf_dumps = pd.read_csv(\"Data/landfill_dumps_df.csv\")"
   ]
  },
  {
   "cell_type": "code",
   "execution_count": 141,
   "metadata": {},
   "outputs": [],
   "source": [
    "# import market faires\n",
    "df_market = pd.read_csv(\"Data/market_faires_df.csv\")"
   ]
  },
  {
   "cell_type": "code",
   "execution_count": 142,
   "metadata": {},
   "outputs": [],
   "source": [
    "# import scrap dumps\n",
    "df_sc_dumps = pd.read_csv(\"Data/scrap_dumps_df.csv\")"
   ]
  },
  {
   "cell_type": "code",
   "execution_count": 143,
   "metadata": {},
   "outputs": [],
   "source": [
    "# import scrap dumps\n",
    "df_shopping = pd.read_csv(\"Data/shopping_center_df.csv\")"
   ]
  },
  {
   "cell_type": "code",
   "execution_count": null,
   "metadata": {},
   "outputs": [],
   "source": []
  },
  {
   "cell_type": "code",
   "execution_count": 6,
   "metadata": {},
   "outputs": [],
   "source": [
    "# import scrap dumps\n",
    "df_restaurants = pd.read_csv(\"Data/restaurants.csv\")"
   ]
  },
  {
   "cell_type": "code",
   "execution_count": 11,
   "metadata": {},
   "outputs": [],
   "source": [
    "# import scrap dumps\n",
    "df_religous = pd.read_csv(\"Data/religous_buildings_df.csv\", sep=\"\\t\")"
   ]
  },
  {
   "cell_type": "code",
   "execution_count": 12,
   "metadata": {},
   "outputs": [],
   "source": [
    "# import scrap dumps\n",
    "df_sports = pd.read_csv(\"Data/sports_df.csv\", sep=\"\\t\")"
   ]
  },
  {
   "cell_type": "code",
   "execution_count": 14,
   "metadata": {},
   "outputs": [],
   "source": [
    "# import scrap dumps\n",
    "df_theaters = pd.read_csv(\"Data/theaters_df.csv\", sep=\"\\t\")"
   ]
  },
  {
   "cell_type": "code",
   "execution_count": 13,
   "metadata": {},
   "outputs": [],
   "source": [
    "# import scrap dumps\n",
    "df_hospitals = pd.read_csv(\"Data/hospitals_df.csv\", sep=\"\\t\")"
   ]
  },
  {
   "cell_type": "markdown",
   "metadata": {},
   "source": [
    "Done with uploading!!!"
   ]
  },
  {
   "cell_type": "code",
   "execution_count": 15,
   "metadata": {},
   "outputs": [],
   "source": [
    "#function that computes the distance to the closeset point of interest\n",
    "def calculate_dist(df):\n",
    "    def calculate(row):\n",
    "        y = row[\"0\"]\n",
    "        x = row[\"1\"]\n",
    "        temp_list = []\n",
    "        for i in range(df.shape[0]):\n",
    "            dist = get_distance(df.loc[i,\"y\"], df.loc[i, \"x\"], y, x)\n",
    "            temp_list.append(dist)\n",
    "        return min(temp_list)\n",
    "    return calculate"
   ]
  },
  {
   "cell_type": "code",
   "execution_count": 16,
   "metadata": {},
   "outputs": [],
   "source": [
    "# credit to: https://stackoverflow.com/questions/44743075/calculate-the-distance-between-two-coordinates-with-python\n",
    "import math\n",
    "\n",
    "def get_distance(y_1, x_1, y_2, x_2): \n",
    "    d_y = y_2 - y_1\n",
    "    d_x = x_2 - x_1 \n",
    "\n",
    "    temp = (  \n",
    "         math.sin(d_y / 2) ** 2 \n",
    "       + math.cos(y_1) \n",
    "       * math.cos(y_2) \n",
    "       * math.sin(d_x / 2) ** 2\n",
    "    )\n",
    "\n",
    "    return 6373.0 * (2 * math.atan2(math.sqrt(temp), math.sqrt(1 - temp)))"
   ]
  },
  {
   "cell_type": "markdown",
   "metadata": {},
   "source": [
    "Merge all dataframes and calculate distances!"
   ]
  },
  {
   "cell_type": "code",
   "execution_count": 147,
   "metadata": {},
   "outputs": [],
   "source": [
    "df[\"green\"] = df.apply(calculate_dist(df_green), axis=1)"
   ]
  },
  {
   "cell_type": "code",
   "execution_count": 148,
   "metadata": {},
   "outputs": [],
   "source": [
    "df[\"ed_pre\"] = df.apply(calculate_dist(df_ed_pre), axis=1)"
   ]
  },
  {
   "cell_type": "code",
   "execution_count": 149,
   "metadata": {},
   "outputs": [],
   "source": [
    "df[\"ed_prim\"] = df.apply(calculate_dist(df_ed_prim), axis=1)"
   ]
  },
  {
   "cell_type": "code",
   "execution_count": 150,
   "metadata": {},
   "outputs": [],
   "source": [
    "df[\"ed_second\"] = df.apply(calculate_dist(df_ed_second), axis=1)"
   ]
  },
  {
   "cell_type": "code",
   "execution_count": 151,
   "metadata": {},
   "outputs": [],
   "source": [
    "df[\"ed_sup\"] = df.apply(calculate_dist(df_ed_sup), axis=1)"
   ]
  },
  {
   "cell_type": "code",
   "execution_count": null,
   "metadata": {},
   "outputs": [],
   "source": [
    "df[\"pt_bus\"] = df.apply(calculate_dist(df_pt_bus), axis=1)"
   ]
  },
  {
   "cell_type": "code",
   "execution_count": null,
   "metadata": {},
   "outputs": [],
   "source": [
    "df[\"pt_metro\"] = df.apply(calculate_dist(df_pt_metro), axis=1)"
   ]
  },
  {
   "cell_type": "code",
   "execution_count": null,
   "metadata": {},
   "outputs": [],
   "source": [
    "df[\"lf_dumps\"] = df.apply(calculate_dist(df_lf_dumps), axis=1)"
   ]
  },
  {
   "cell_type": "code",
   "execution_count": null,
   "metadata": {},
   "outputs": [],
   "source": [
    "df[\"market\"] = df.apply(calculate_dist(df_market), axis=1)"
   ]
  },
  {
   "cell_type": "code",
   "execution_count": null,
   "metadata": {},
   "outputs": [],
   "source": [
    "df[\"sc_dumps\"] = df.apply(calculate_dist(df_sc_dumps), axis=1)"
   ]
  },
  {
   "cell_type": "code",
   "execution_count": null,
   "metadata": {},
   "outputs": [],
   "source": [
    "df[\"sc_shopping\"] = df.apply(calculate_dist(df_shopping), axis=1)"
   ]
  },
  {
   "cell_type": "code",
   "execution_count": null,
   "metadata": {},
   "outputs": [],
   "source": []
  },
  {
   "cell_type": "code",
   "execution_count": 17,
   "metadata": {},
   "outputs": [
    {
     "ename": "KeyboardInterrupt",
     "evalue": "",
     "output_type": "error",
     "traceback": [
      "\u001b[0;31m---------------------------------------------------------------------------\u001b[0m",
      "\u001b[0;31mKeyboardInterrupt\u001b[0m                         Traceback (most recent call last)",
      "\u001b[0;32m<ipython-input-17-6f910e6477c0>\u001b[0m in \u001b[0;36m<module>\u001b[0;34m\u001b[0m\n\u001b[0;32m----> 1\u001b[0;31m \u001b[0mdf\u001b[0m\u001b[0;34m[\u001b[0m\u001b[0;34m\"restaurants\"\u001b[0m\u001b[0;34m]\u001b[0m \u001b[0;34m=\u001b[0m \u001b[0mdf\u001b[0m\u001b[0;34m.\u001b[0m\u001b[0mapply\u001b[0m\u001b[0;34m(\u001b[0m\u001b[0mcalculate_dist\u001b[0m\u001b[0;34m(\u001b[0m\u001b[0mdf_restaurants\u001b[0m\u001b[0;34m)\u001b[0m\u001b[0;34m,\u001b[0m \u001b[0maxis\u001b[0m\u001b[0;34m=\u001b[0m\u001b[0;36m1\u001b[0m\u001b[0;34m)\u001b[0m\u001b[0;34m\u001b[0m\u001b[0;34m\u001b[0m\u001b[0m\n\u001b[0m",
      "\u001b[0;32m/opt/conda/lib/python3.7/site-packages/pandas/core/frame.py\u001b[0m in \u001b[0;36mapply\u001b[0;34m(self, func, axis, broadcast, raw, reduce, result_type, args, **kwds)\u001b[0m\n\u001b[1;32m   6485\u001b[0m                          \u001b[0margs\u001b[0m\u001b[0;34m=\u001b[0m\u001b[0margs\u001b[0m\u001b[0;34m,\u001b[0m\u001b[0;34m\u001b[0m\u001b[0;34m\u001b[0m\u001b[0m\n\u001b[1;32m   6486\u001b[0m                          kwds=kwds)\n\u001b[0;32m-> 6487\u001b[0;31m         \u001b[0;32mreturn\u001b[0m \u001b[0mop\u001b[0m\u001b[0;34m.\u001b[0m\u001b[0mget_result\u001b[0m\u001b[0;34m(\u001b[0m\u001b[0;34m)\u001b[0m\u001b[0;34m\u001b[0m\u001b[0;34m\u001b[0m\u001b[0m\n\u001b[0m\u001b[1;32m   6488\u001b[0m \u001b[0;34m\u001b[0m\u001b[0m\n\u001b[1;32m   6489\u001b[0m     \u001b[0;32mdef\u001b[0m \u001b[0mapplymap\u001b[0m\u001b[0;34m(\u001b[0m\u001b[0mself\u001b[0m\u001b[0;34m,\u001b[0m \u001b[0mfunc\u001b[0m\u001b[0;34m)\u001b[0m\u001b[0;34m:\u001b[0m\u001b[0;34m\u001b[0m\u001b[0;34m\u001b[0m\u001b[0m\n",
      "\u001b[0;32m/opt/conda/lib/python3.7/site-packages/pandas/core/apply.py\u001b[0m in \u001b[0;36mget_result\u001b[0;34m(self)\u001b[0m\n\u001b[1;32m    149\u001b[0m             \u001b[0;32mreturn\u001b[0m \u001b[0mself\u001b[0m\u001b[0;34m.\u001b[0m\u001b[0mapply_raw\u001b[0m\u001b[0;34m(\u001b[0m\u001b[0;34m)\u001b[0m\u001b[0;34m\u001b[0m\u001b[0;34m\u001b[0m\u001b[0m\n\u001b[1;32m    150\u001b[0m \u001b[0;34m\u001b[0m\u001b[0m\n\u001b[0;32m--> 151\u001b[0;31m         \u001b[0;32mreturn\u001b[0m \u001b[0mself\u001b[0m\u001b[0;34m.\u001b[0m\u001b[0mapply_standard\u001b[0m\u001b[0;34m(\u001b[0m\u001b[0;34m)\u001b[0m\u001b[0;34m\u001b[0m\u001b[0;34m\u001b[0m\u001b[0m\n\u001b[0m\u001b[1;32m    152\u001b[0m \u001b[0;34m\u001b[0m\u001b[0m\n\u001b[1;32m    153\u001b[0m     \u001b[0;32mdef\u001b[0m \u001b[0mapply_empty_result\u001b[0m\u001b[0;34m(\u001b[0m\u001b[0mself\u001b[0m\u001b[0;34m)\u001b[0m\u001b[0;34m:\u001b[0m\u001b[0;34m\u001b[0m\u001b[0;34m\u001b[0m\u001b[0m\n",
      "\u001b[0;32m/opt/conda/lib/python3.7/site-packages/pandas/core/apply.py\u001b[0m in \u001b[0;36mapply_standard\u001b[0;34m(self)\u001b[0m\n\u001b[1;32m    249\u001b[0m                                           \u001b[0maxis\u001b[0m\u001b[0;34m=\u001b[0m\u001b[0mself\u001b[0m\u001b[0;34m.\u001b[0m\u001b[0maxis\u001b[0m\u001b[0;34m,\u001b[0m\u001b[0;34m\u001b[0m\u001b[0;34m\u001b[0m\u001b[0m\n\u001b[1;32m    250\u001b[0m                                           \u001b[0mdummy\u001b[0m\u001b[0;34m=\u001b[0m\u001b[0mdummy\u001b[0m\u001b[0;34m,\u001b[0m\u001b[0;34m\u001b[0m\u001b[0;34m\u001b[0m\u001b[0m\n\u001b[0;32m--> 251\u001b[0;31m                                           labels=labels)\n\u001b[0m\u001b[1;32m    252\u001b[0m                 \u001b[0;32mreturn\u001b[0m \u001b[0mself\u001b[0m\u001b[0;34m.\u001b[0m\u001b[0mobj\u001b[0m\u001b[0;34m.\u001b[0m\u001b[0m_constructor_sliced\u001b[0m\u001b[0;34m(\u001b[0m\u001b[0mresult\u001b[0m\u001b[0;34m,\u001b[0m \u001b[0mindex\u001b[0m\u001b[0;34m=\u001b[0m\u001b[0mlabels\u001b[0m\u001b[0;34m)\u001b[0m\u001b[0;34m\u001b[0m\u001b[0;34m\u001b[0m\u001b[0m\n\u001b[1;32m    253\u001b[0m             \u001b[0;32mexcept\u001b[0m \u001b[0mException\u001b[0m\u001b[0;34m:\u001b[0m\u001b[0;34m\u001b[0m\u001b[0;34m\u001b[0m\u001b[0m\n",
      "\u001b[0;32mpandas/_libs/reduction.pyx\u001b[0m in \u001b[0;36mpandas._libs.reduction.reduce\u001b[0;34m()\u001b[0m\n",
      "\u001b[0;32mpandas/_libs/reduction.pyx\u001b[0m in \u001b[0;36mpandas._libs.reduction.Reducer.get_result\u001b[0;34m()\u001b[0m\n",
      "\u001b[0;32m<ipython-input-15-1715c4d02c2a>\u001b[0m in \u001b[0;36mcalculate\u001b[0;34m(row)\u001b[0m\n\u001b[1;32m      6\u001b[0m         \u001b[0mtemp_list\u001b[0m \u001b[0;34m=\u001b[0m \u001b[0;34m[\u001b[0m\u001b[0;34m]\u001b[0m\u001b[0;34m\u001b[0m\u001b[0;34m\u001b[0m\u001b[0m\n\u001b[1;32m      7\u001b[0m         \u001b[0;32mfor\u001b[0m \u001b[0mi\u001b[0m \u001b[0;32min\u001b[0m \u001b[0mrange\u001b[0m\u001b[0;34m(\u001b[0m\u001b[0mdf\u001b[0m\u001b[0;34m.\u001b[0m\u001b[0mshape\u001b[0m\u001b[0;34m[\u001b[0m\u001b[0;36m0\u001b[0m\u001b[0;34m]\u001b[0m\u001b[0;34m)\u001b[0m\u001b[0;34m:\u001b[0m\u001b[0;34m\u001b[0m\u001b[0;34m\u001b[0m\u001b[0m\n\u001b[0;32m----> 8\u001b[0;31m             \u001b[0mdist\u001b[0m \u001b[0;34m=\u001b[0m \u001b[0mget_distance\u001b[0m\u001b[0;34m(\u001b[0m\u001b[0mdf\u001b[0m\u001b[0;34m.\u001b[0m\u001b[0mloc\u001b[0m\u001b[0;34m[\u001b[0m\u001b[0mi\u001b[0m\u001b[0;34m,\u001b[0m\u001b[0;34m\"y\"\u001b[0m\u001b[0;34m]\u001b[0m\u001b[0;34m,\u001b[0m \u001b[0mdf\u001b[0m\u001b[0;34m.\u001b[0m\u001b[0mloc\u001b[0m\u001b[0;34m[\u001b[0m\u001b[0mi\u001b[0m\u001b[0;34m,\u001b[0m \u001b[0;34m\"x\"\u001b[0m\u001b[0;34m]\u001b[0m\u001b[0;34m,\u001b[0m \u001b[0my\u001b[0m\u001b[0;34m,\u001b[0m \u001b[0mx\u001b[0m\u001b[0;34m)\u001b[0m\u001b[0;34m\u001b[0m\u001b[0;34m\u001b[0m\u001b[0m\n\u001b[0m\u001b[1;32m      9\u001b[0m             \u001b[0mtemp_list\u001b[0m\u001b[0;34m.\u001b[0m\u001b[0mappend\u001b[0m\u001b[0;34m(\u001b[0m\u001b[0mdist\u001b[0m\u001b[0;34m)\u001b[0m\u001b[0;34m\u001b[0m\u001b[0;34m\u001b[0m\u001b[0m\n\u001b[1;32m     10\u001b[0m         \u001b[0;32mreturn\u001b[0m \u001b[0mmin\u001b[0m\u001b[0;34m(\u001b[0m\u001b[0mtemp_list\u001b[0m\u001b[0;34m)\u001b[0m\u001b[0;34m\u001b[0m\u001b[0;34m\u001b[0m\u001b[0m\n",
      "\u001b[0;32m/opt/conda/lib/python3.7/site-packages/pandas/core/indexing.py\u001b[0m in \u001b[0;36m__getitem__\u001b[0;34m(self, key)\u001b[0m\n\u001b[1;32m   1489\u001b[0m             \u001b[0;32mtry\u001b[0m\u001b[0;34m:\u001b[0m\u001b[0;34m\u001b[0m\u001b[0;34m\u001b[0m\u001b[0m\n\u001b[1;32m   1490\u001b[0m                 \u001b[0;32mif\u001b[0m \u001b[0mself\u001b[0m\u001b[0;34m.\u001b[0m\u001b[0m_is_scalar_access\u001b[0m\u001b[0;34m(\u001b[0m\u001b[0mkey\u001b[0m\u001b[0;34m)\u001b[0m\u001b[0;34m:\u001b[0m\u001b[0;34m\u001b[0m\u001b[0;34m\u001b[0m\u001b[0m\n\u001b[0;32m-> 1491\u001b[0;31m                     \u001b[0;32mreturn\u001b[0m \u001b[0mself\u001b[0m\u001b[0;34m.\u001b[0m\u001b[0m_getitem_scalar\u001b[0m\u001b[0;34m(\u001b[0m\u001b[0mkey\u001b[0m\u001b[0;34m)\u001b[0m\u001b[0;34m\u001b[0m\u001b[0;34m\u001b[0m\u001b[0m\n\u001b[0m\u001b[1;32m   1492\u001b[0m             \u001b[0;32mexcept\u001b[0m \u001b[0;34m(\u001b[0m\u001b[0mKeyError\u001b[0m\u001b[0;34m,\u001b[0m \u001b[0mIndexError\u001b[0m\u001b[0;34m,\u001b[0m \u001b[0mAttributeError\u001b[0m\u001b[0;34m)\u001b[0m\u001b[0;34m:\u001b[0m\u001b[0;34m\u001b[0m\u001b[0;34m\u001b[0m\u001b[0m\n\u001b[1;32m   1493\u001b[0m                 \u001b[0;32mpass\u001b[0m\u001b[0;34m\u001b[0m\u001b[0;34m\u001b[0m\u001b[0m\n",
      "\u001b[0;32m/opt/conda/lib/python3.7/site-packages/pandas/core/indexing.py\u001b[0m in \u001b[0;36m_getitem_scalar\u001b[0;34m(self, key)\u001b[0m\n\u001b[1;32m   1826\u001b[0m         \u001b[0;31m# a fast-path to scalar access\u001b[0m\u001b[0;34m\u001b[0m\u001b[0;34m\u001b[0m\u001b[0;34m\u001b[0m\u001b[0m\n\u001b[1;32m   1827\u001b[0m         \u001b[0;31m# if not, raise\u001b[0m\u001b[0;34m\u001b[0m\u001b[0;34m\u001b[0m\u001b[0;34m\u001b[0m\u001b[0m\n\u001b[0;32m-> 1828\u001b[0;31m         \u001b[0mvalues\u001b[0m \u001b[0;34m=\u001b[0m \u001b[0mself\u001b[0m\u001b[0;34m.\u001b[0m\u001b[0mobj\u001b[0m\u001b[0;34m.\u001b[0m\u001b[0m_get_value\u001b[0m\u001b[0;34m(\u001b[0m\u001b[0;34m*\u001b[0m\u001b[0mkey\u001b[0m\u001b[0;34m)\u001b[0m\u001b[0;34m\u001b[0m\u001b[0;34m\u001b[0m\u001b[0m\n\u001b[0m\u001b[1;32m   1829\u001b[0m         \u001b[0;32mreturn\u001b[0m \u001b[0mvalues\u001b[0m\u001b[0;34m\u001b[0m\u001b[0;34m\u001b[0m\u001b[0m\n\u001b[1;32m   1830\u001b[0m \u001b[0;34m\u001b[0m\u001b[0m\n",
      "\u001b[0;32m/opt/conda/lib/python3.7/site-packages/pandas/core/frame.py\u001b[0m in \u001b[0;36m_get_value\u001b[0;34m(self, index, col, takeable)\u001b[0m\n\u001b[1;32m   2769\u001b[0m \u001b[0;34m\u001b[0m\u001b[0m\n\u001b[1;32m   2770\u001b[0m         \u001b[0;32mtry\u001b[0m\u001b[0;34m:\u001b[0m\u001b[0;34m\u001b[0m\u001b[0;34m\u001b[0m\u001b[0m\n\u001b[0;32m-> 2771\u001b[0;31m             \u001b[0;32mreturn\u001b[0m \u001b[0mengine\u001b[0m\u001b[0;34m.\u001b[0m\u001b[0mget_value\u001b[0m\u001b[0;34m(\u001b[0m\u001b[0mseries\u001b[0m\u001b[0;34m.\u001b[0m\u001b[0m_values\u001b[0m\u001b[0;34m,\u001b[0m \u001b[0mindex\u001b[0m\u001b[0;34m)\u001b[0m\u001b[0;34m\u001b[0m\u001b[0;34m\u001b[0m\u001b[0m\n\u001b[0m\u001b[1;32m   2772\u001b[0m         \u001b[0;32mexcept\u001b[0m \u001b[0;34m(\u001b[0m\u001b[0mTypeError\u001b[0m\u001b[0;34m,\u001b[0m \u001b[0mValueError\u001b[0m\u001b[0;34m)\u001b[0m\u001b[0;34m:\u001b[0m\u001b[0;34m\u001b[0m\u001b[0;34m\u001b[0m\u001b[0m\n\u001b[1;32m   2773\u001b[0m \u001b[0;34m\u001b[0m\u001b[0m\n",
      "\u001b[0;32m/opt/conda/lib/python3.7/site-packages/pandas/core/series.py\u001b[0m in \u001b[0;36m_values\u001b[0;34m(self)\u001b[0m\n\u001b[1;32m    479\u001b[0m         \u001b[0mReturn\u001b[0m \u001b[0mthe\u001b[0m \u001b[0minternal\u001b[0m \u001b[0mrepr\u001b[0m \u001b[0mof\u001b[0m \u001b[0mthis\u001b[0m \u001b[0mdata\u001b[0m\u001b[0;34m.\u001b[0m\u001b[0;34m\u001b[0m\u001b[0;34m\u001b[0m\u001b[0m\n\u001b[1;32m    480\u001b[0m         \"\"\"\n\u001b[0;32m--> 481\u001b[0;31m         \u001b[0;32mreturn\u001b[0m \u001b[0mself\u001b[0m\u001b[0;34m.\u001b[0m\u001b[0m_data\u001b[0m\u001b[0;34m.\u001b[0m\u001b[0minternal_values\u001b[0m\u001b[0;34m(\u001b[0m\u001b[0;34m)\u001b[0m\u001b[0;34m\u001b[0m\u001b[0;34m\u001b[0m\u001b[0m\n\u001b[0m\u001b[1;32m    482\u001b[0m \u001b[0;34m\u001b[0m\u001b[0m\n\u001b[1;32m    483\u001b[0m     \u001b[0;32mdef\u001b[0m \u001b[0m_formatting_values\u001b[0m\u001b[0;34m(\u001b[0m\u001b[0mself\u001b[0m\u001b[0;34m)\u001b[0m\u001b[0;34m:\u001b[0m\u001b[0;34m\u001b[0m\u001b[0;34m\u001b[0m\u001b[0m\n",
      "\u001b[0;32m/opt/conda/lib/python3.7/site-packages/pandas/core/internals/managers.py\u001b[0m in \u001b[0;36minternal_values\u001b[0;34m(self)\u001b[0m\n\u001b[1;32m   1548\u001b[0m \u001b[0;34m\u001b[0m\u001b[0m\n\u001b[1;32m   1549\u001b[0m     \u001b[0;32mdef\u001b[0m \u001b[0minternal_values\u001b[0m\u001b[0;34m(\u001b[0m\u001b[0mself\u001b[0m\u001b[0;34m)\u001b[0m\u001b[0;34m:\u001b[0m\u001b[0;34m\u001b[0m\u001b[0;34m\u001b[0m\u001b[0m\n\u001b[0;32m-> 1550\u001b[0;31m         \u001b[0;32mreturn\u001b[0m \u001b[0mself\u001b[0m\u001b[0;34m.\u001b[0m\u001b[0m_block\u001b[0m\u001b[0;34m.\u001b[0m\u001b[0minternal_values\u001b[0m\u001b[0;34m(\u001b[0m\u001b[0;34m)\u001b[0m\u001b[0;34m\u001b[0m\u001b[0;34m\u001b[0m\u001b[0m\n\u001b[0m\u001b[1;32m   1551\u001b[0m \u001b[0;34m\u001b[0m\u001b[0m\n\u001b[1;32m   1552\u001b[0m     \u001b[0;32mdef\u001b[0m \u001b[0mformatting_values\u001b[0m\u001b[0;34m(\u001b[0m\u001b[0mself\u001b[0m\u001b[0;34m)\u001b[0m\u001b[0;34m:\u001b[0m\u001b[0;34m\u001b[0m\u001b[0;34m\u001b[0m\u001b[0m\n",
      "\u001b[0;31mKeyboardInterrupt\u001b[0m: "
     ]
    }
   ],
   "source": [
    "df[\"restaurants\"] = df.apply(calculate_dist(df_restaurants), axis=1)"
   ]
  },
  {
   "cell_type": "code",
   "execution_count": null,
   "metadata": {},
   "outputs": [],
   "source": [
    "df[\"religous\"] = df.apply(calculate_dist(df_religous), axis=1)"
   ]
  },
  {
   "cell_type": "code",
   "execution_count": null,
   "metadata": {},
   "outputs": [],
   "source": [
    "df[\"sports\"] = df.apply(calculate_dist(df_sports), axis=1)"
   ]
  },
  {
   "cell_type": "code",
   "execution_count": null,
   "metadata": {},
   "outputs": [],
   "source": [
    "df[\"theaters\"] = df.apply(calculate_dist(df_theaters), axis=1)"
   ]
  },
  {
   "cell_type": "code",
   "execution_count": null,
   "metadata": {},
   "outputs": [],
   "source": [
    "df[\"hospitals\"] = df.apply(calculate_dist(df_hospitals), axis=1)"
   ]
  },
  {
   "cell_type": "markdown",
   "metadata": {},
   "source": [
    "Scale these badboys\"!"
   ]
  },
  {
   "cell_type": "code",
   "execution_count": 77,
   "metadata": {},
   "outputs": [],
   "source": [
    "from sklearn.preprocessing import MinMaxScaler\n",
    "scaler = MinMaxScaler()"
   ]
  },
  {
   "cell_type": "code",
   "execution_count": 78,
   "metadata": {},
   "outputs": [],
   "source": [
    "df[\"green_scaled\"] = scaler.fit_transform(df[['green']])"
   ]
  },
  {
   "cell_type": "code",
   "execution_count": 81,
   "metadata": {},
   "outputs": [],
   "source": [
    "df[\"ed_pre_scaled\"] = scaler.fit_transform(df[['ed_pre']])"
   ]
  },
  {
   "cell_type": "code",
   "execution_count": 82,
   "metadata": {},
   "outputs": [],
   "source": [
    "df[\"ed_prim_scaled\"] = scaler.fit_transform(df[['ed_prim']])"
   ]
  },
  {
   "cell_type": "code",
   "execution_count": 83,
   "metadata": {},
   "outputs": [],
   "source": [
    "df[\"ed_second_scaled\"] = scaler.fit_transform(df[['ed_second']])"
   ]
  },
  {
   "cell_type": "code",
   "execution_count": 84,
   "metadata": {},
   "outputs": [],
   "source": [
    "df[\"ed_sup_scaled\"] = scaler.fit_transform(df[['ed_sup']])"
   ]
  },
  {
   "cell_type": "code",
   "execution_count": null,
   "metadata": {},
   "outputs": [],
   "source": [
    "df[\"pt_bus_scaled\"] = scaler.fit_transform(df[['pt_bus']])"
   ]
  },
  {
   "cell_type": "code",
   "execution_count": null,
   "metadata": {},
   "outputs": [],
   "source": [
    "df[\"pt_metro_scaled\"] = scaler.fit_transform(df[['pt_metro']])"
   ]
  },
  {
   "cell_type": "code",
   "execution_count": null,
   "metadata": {},
   "outputs": [],
   "source": [
    "df[\"lf_dumps_scaled\"] = scaler.fit_transform(df[['lf_dumps']])"
   ]
  },
  {
   "cell_type": "code",
   "execution_count": null,
   "metadata": {},
   "outputs": [],
   "source": [
    "df[\"market_scaled\"] = scaler.fit_transform(df[['market']])"
   ]
  },
  {
   "cell_type": "code",
   "execution_count": null,
   "metadata": {},
   "outputs": [],
   "source": [
    "df[\"sc_dumps_scaled\"] = scaler.fit_transform(df[['sc_dumps']])"
   ]
  },
  {
   "cell_type": "code",
   "execution_count": null,
   "metadata": {},
   "outputs": [],
   "source": [
    "df[\"shopping_scaled\"] = scaler.fit_transform(df[['shopping']])"
   ]
  },
  {
   "cell_type": "code",
   "execution_count": null,
   "metadata": {},
   "outputs": [],
   "source": []
  },
  {
   "cell_type": "code",
   "execution_count": 85,
   "metadata": {},
   "outputs": [
    {
     "data": {
      "text/html": [
       "<div>\n",
       "<style scoped>\n",
       "    .dataframe tbody tr th:only-of-type {\n",
       "        vertical-align: middle;\n",
       "    }\n",
       "\n",
       "    .dataframe tbody tr th {\n",
       "        vertical-align: top;\n",
       "    }\n",
       "\n",
       "    .dataframe thead th {\n",
       "        text-align: right;\n",
       "    }\n",
       "</style>\n",
       "<table border=\"1\" class=\"dataframe\">\n",
       "  <thead>\n",
       "    <tr style=\"text-align: right;\">\n",
       "      <th></th>\n",
       "      <th>long</th>\n",
       "      <th>lat</th>\n",
       "      <th>green</th>\n",
       "      <th>ed_pre</th>\n",
       "      <th>ed_prim</th>\n",
       "      <th>ed_second</th>\n",
       "      <th>ed_sup</th>\n",
       "      <th>green_scaled</th>\n",
       "      <th>ed_pre_scaled</th>\n",
       "      <th>ed_prim_scaled</th>\n",
       "      <th>ed_second_scaled</th>\n",
       "      <th>ed_sup_scaled</th>\n",
       "    </tr>\n",
       "  </thead>\n",
       "  <tbody>\n",
       "    <tr>\n",
       "      <th>count</th>\n",
       "      <td>1080.000000</td>\n",
       "      <td>1080.000000</td>\n",
       "      <td>1080.000000</td>\n",
       "      <td>1080.000000</td>\n",
       "      <td>1080.000000</td>\n",
       "      <td>1080.000000</td>\n",
       "      <td>1080.000000</td>\n",
       "      <td>1080.000000</td>\n",
       "      <td>1080.000000</td>\n",
       "      <td>1080.000000</td>\n",
       "      <td>1080.000000</td>\n",
       "      <td>1080.000000</td>\n",
       "    </tr>\n",
       "    <tr>\n",
       "      <th>mean</th>\n",
       "      <td>41.163750</td>\n",
       "      <td>-8.623750</td>\n",
       "      <td>97.984140</td>\n",
       "      <td>39.978064</td>\n",
       "      <td>62.827738</td>\n",
       "      <td>83.824697</td>\n",
       "      <td>69.311213</td>\n",
       "      <td>0.381497</td>\n",
       "      <td>0.257052</td>\n",
       "      <td>0.331112</td>\n",
       "      <td>0.408263</td>\n",
       "      <td>0.258086</td>\n",
       "    </tr>\n",
       "    <tr>\n",
       "      <th>std</th>\n",
       "      <td>0.014422</td>\n",
       "      <td>0.038983</td>\n",
       "      <td>54.064701</td>\n",
       "      <td>27.323371</td>\n",
       "      <td>34.734550</td>\n",
       "      <td>43.026535</td>\n",
       "      <td>50.398427</td>\n",
       "      <td>0.215064</td>\n",
       "      <td>0.181966</td>\n",
       "      <td>0.189804</td>\n",
       "      <td>0.213432</td>\n",
       "      <td>0.192294</td>\n",
       "    </tr>\n",
       "    <tr>\n",
       "      <th>min</th>\n",
       "      <td>41.140000</td>\n",
       "      <td>-8.690000</td>\n",
       "      <td>2.080153</td>\n",
       "      <td>1.379907</td>\n",
       "      <td>2.233591</td>\n",
       "      <td>1.521529</td>\n",
       "      <td>1.669363</td>\n",
       "      <td>0.000000</td>\n",
       "      <td>0.000000</td>\n",
       "      <td>0.000000</td>\n",
       "      <td>0.000000</td>\n",
       "      <td>0.000000</td>\n",
       "    </tr>\n",
       "    <tr>\n",
       "      <th>25%</th>\n",
       "      <td>41.151875</td>\n",
       "      <td>-8.657500</td>\n",
       "      <td>53.811507</td>\n",
       "      <td>19.464778</td>\n",
       "      <td>36.786573</td>\n",
       "      <td>50.427486</td>\n",
       "      <td>30.491485</td>\n",
       "      <td>0.205783</td>\n",
       "      <td>0.120440</td>\n",
       "      <td>0.188812</td>\n",
       "      <td>0.242597</td>\n",
       "      <td>0.109970</td>\n",
       "    </tr>\n",
       "    <tr>\n",
       "      <th>50%</th>\n",
       "      <td>41.163750</td>\n",
       "      <td>-8.623750</td>\n",
       "      <td>91.356868</td>\n",
       "      <td>32.283162</td>\n",
       "      <td>56.634541</td>\n",
       "      <td>80.809132</td>\n",
       "      <td>58.539605</td>\n",
       "      <td>0.355135</td>\n",
       "      <td>0.205807</td>\n",
       "      <td>0.297269</td>\n",
       "      <td>0.393305</td>\n",
       "      <td>0.216987</td>\n",
       "    </tr>\n",
       "    <tr>\n",
       "      <th>75%</th>\n",
       "      <td>41.175625</td>\n",
       "      <td>-8.590000</td>\n",
       "      <td>136.924915</td>\n",
       "      <td>55.378146</td>\n",
       "      <td>82.676931</td>\n",
       "      <td>117.178573</td>\n",
       "      <td>98.395686</td>\n",
       "      <td>0.536400</td>\n",
       "      <td>0.359612</td>\n",
       "      <td>0.439576</td>\n",
       "      <td>0.573715</td>\n",
       "      <td>0.369057</td>\n",
       "    </tr>\n",
       "    <tr>\n",
       "      <th>max</th>\n",
       "      <td>41.187500</td>\n",
       "      <td>-8.557500</td>\n",
       "      <td>253.468530</td>\n",
       "      <td>151.536710</td>\n",
       "      <td>185.235744</td>\n",
       "      <td>203.114878</td>\n",
       "      <td>263.759723</td>\n",
       "      <td>1.000000</td>\n",
       "      <td>1.000000</td>\n",
       "      <td>1.000000</td>\n",
       "      <td>1.000000</td>\n",
       "      <td>1.000000</td>\n",
       "    </tr>\n",
       "  </tbody>\n",
       "</table>\n",
       "</div>"
      ],
      "text/plain": [
       "              long          lat        green       ed_pre      ed_prim  \\\n",
       "count  1080.000000  1080.000000  1080.000000  1080.000000  1080.000000   \n",
       "mean     41.163750    -8.623750    97.984140    39.978064    62.827738   \n",
       "std       0.014422     0.038983    54.064701    27.323371    34.734550   \n",
       "min      41.140000    -8.690000     2.080153     1.379907     2.233591   \n",
       "25%      41.151875    -8.657500    53.811507    19.464778    36.786573   \n",
       "50%      41.163750    -8.623750    91.356868    32.283162    56.634541   \n",
       "75%      41.175625    -8.590000   136.924915    55.378146    82.676931   \n",
       "max      41.187500    -8.557500   253.468530   151.536710   185.235744   \n",
       "\n",
       "         ed_second       ed_sup  green_scaled  ed_pre_scaled  ed_prim_scaled  \\\n",
       "count  1080.000000  1080.000000   1080.000000    1080.000000     1080.000000   \n",
       "mean     83.824697    69.311213      0.381497       0.257052        0.331112   \n",
       "std      43.026535    50.398427      0.215064       0.181966        0.189804   \n",
       "min       1.521529     1.669363      0.000000       0.000000        0.000000   \n",
       "25%      50.427486    30.491485      0.205783       0.120440        0.188812   \n",
       "50%      80.809132    58.539605      0.355135       0.205807        0.297269   \n",
       "75%     117.178573    98.395686      0.536400       0.359612        0.439576   \n",
       "max     203.114878   263.759723      1.000000       1.000000        1.000000   \n",
       "\n",
       "       ed_second_scaled  ed_sup_scaled  \n",
       "count       1080.000000    1080.000000  \n",
       "mean           0.408263       0.258086  \n",
       "std            0.213432       0.192294  \n",
       "min            0.000000       0.000000  \n",
       "25%            0.242597       0.109970  \n",
       "50%            0.393305       0.216987  \n",
       "75%            0.573715       0.369057  \n",
       "max            1.000000       1.000000  "
      ]
     },
     "execution_count": 85,
     "metadata": {},
     "output_type": "execute_result"
    }
   ],
   "source": [
    "df.describe()"
   ]
  },
  {
   "cell_type": "code",
   "execution_count": 108,
   "metadata": {},
   "outputs": [
    {
     "data": {
      "text/plain": [
       "0.2"
      ]
     },
     "execution_count": 108,
     "metadata": {},
     "output_type": "execute_result"
    }
   ],
   "source": [
    "weight_green = 0.2\n",
    "weight_ed_pre = 0.3/4\n",
    "weight_ed_prim = 0.3/4\n",
    "weight_ed_second = 0.1/4\n",
    "weight_ed_sup = 0.1/4\n",
    "weight_pt_bus = 0.2\n",
    "weight_pt_metro = 0.2\n",
    "weight_lf_dumps = 0.1\n",
    "weight_market = 0.2\n",
    "weight_sc_dumps = 0.05\n",
    "weight_shopping = 0.15"
   ]
  },
  {
   "cell_type": "code",
   "execution_count": 95,
   "metadata": {},
   "outputs": [],
   "source": [
    "df[\"QOL\"] = weight_green*df[\"green_scaled\"] + \\\n",
    "            weight_ed_pre*df[\"ed_pre_scaled\"] + \\\n",
    "            weight_ed_prim*df[\"ed_prim_scaled\"] + \\\n",
    "            weight_ed_second*df[\"ed_second_scaled\"] + \\\n",
    "            weight_ed_sup*df[\"ed_sup_scaled\"] + \\\n",
    "            weight_pt_bus*df[\"pt_bus_scaled\"] + \\\n",
    "            weight_pt_metro*df[\"pt_metro_scaled\"] - \\\n",
    "            weight_lf_dumps*df[\"lf_dumps_scaled\"] + \\\n",
    "            weight_market*df[\"market_scaled\"] - \\\n",
    "            weight_sc_dumps*df[\"sc_dumps_scaled\"] + \\\n",
    "            weight_shopping*df[\"shopping_scaled\"] + \\"
   ]
  },
  {
   "cell_type": "code",
   "execution_count": 97,
   "metadata": {},
   "outputs": [
    {
     "data": {
      "text/html": [
       "<div>\n",
       "<style scoped>\n",
       "    .dataframe tbody tr th:only-of-type {\n",
       "        vertical-align: middle;\n",
       "    }\n",
       "\n",
       "    .dataframe tbody tr th {\n",
       "        vertical-align: top;\n",
       "    }\n",
       "\n",
       "    .dataframe thead th {\n",
       "        text-align: right;\n",
       "    }\n",
       "</style>\n",
       "<table border=\"1\" class=\"dataframe\">\n",
       "  <thead>\n",
       "    <tr style=\"text-align: right;\">\n",
       "      <th></th>\n",
       "      <th>long</th>\n",
       "      <th>lat</th>\n",
       "      <th>green</th>\n",
       "      <th>ed_pre</th>\n",
       "      <th>ed_prim</th>\n",
       "      <th>ed_second</th>\n",
       "      <th>ed_sup</th>\n",
       "      <th>green_scaled</th>\n",
       "      <th>ed_pre_scaled</th>\n",
       "      <th>ed_prim_scaled</th>\n",
       "      <th>ed_second_scaled</th>\n",
       "      <th>ed_sup_scaled</th>\n",
       "      <th>QOL</th>\n",
       "    </tr>\n",
       "  </thead>\n",
       "  <tbody>\n",
       "    <tr>\n",
       "      <th>count</th>\n",
       "      <td>1080.000000</td>\n",
       "      <td>1080.000000</td>\n",
       "      <td>1080.000000</td>\n",
       "      <td>1080.000000</td>\n",
       "      <td>1080.000000</td>\n",
       "      <td>1080.000000</td>\n",
       "      <td>1080.000000</td>\n",
       "      <td>1080.000000</td>\n",
       "      <td>1080.000000</td>\n",
       "      <td>1080.000000</td>\n",
       "      <td>1080.000000</td>\n",
       "      <td>1080.000000</td>\n",
       "      <td>1080.000000</td>\n",
       "    </tr>\n",
       "    <tr>\n",
       "      <th>mean</th>\n",
       "      <td>41.163750</td>\n",
       "      <td>-8.623750</td>\n",
       "      <td>97.984140</td>\n",
       "      <td>39.978064</td>\n",
       "      <td>62.827738</td>\n",
       "      <td>83.824697</td>\n",
       "      <td>69.311213</td>\n",
       "      <td>0.381497</td>\n",
       "      <td>0.257052</td>\n",
       "      <td>0.331112</td>\n",
       "      <td>0.408263</td>\n",
       "      <td>0.258086</td>\n",
       "      <td>0.327202</td>\n",
       "    </tr>\n",
       "    <tr>\n",
       "      <th>std</th>\n",
       "      <td>0.014422</td>\n",
       "      <td>0.038983</td>\n",
       "      <td>54.064701</td>\n",
       "      <td>27.323371</td>\n",
       "      <td>34.734550</td>\n",
       "      <td>43.026535</td>\n",
       "      <td>50.398427</td>\n",
       "      <td>0.215064</td>\n",
       "      <td>0.181966</td>\n",
       "      <td>0.189804</td>\n",
       "      <td>0.213432</td>\n",
       "      <td>0.192294</td>\n",
       "      <td>0.155910</td>\n",
       "    </tr>\n",
       "    <tr>\n",
       "      <th>min</th>\n",
       "      <td>41.140000</td>\n",
       "      <td>-8.690000</td>\n",
       "      <td>2.080153</td>\n",
       "      <td>1.379907</td>\n",
       "      <td>2.233591</td>\n",
       "      <td>1.521529</td>\n",
       "      <td>1.669363</td>\n",
       "      <td>0.000000</td>\n",
       "      <td>0.000000</td>\n",
       "      <td>0.000000</td>\n",
       "      <td>0.000000</td>\n",
       "      <td>0.000000</td>\n",
       "      <td>0.066844</td>\n",
       "    </tr>\n",
       "    <tr>\n",
       "      <th>25%</th>\n",
       "      <td>41.151875</td>\n",
       "      <td>-8.657500</td>\n",
       "      <td>53.811507</td>\n",
       "      <td>19.464778</td>\n",
       "      <td>36.786573</td>\n",
       "      <td>50.427486</td>\n",
       "      <td>30.491485</td>\n",
       "      <td>0.205783</td>\n",
       "      <td>0.120440</td>\n",
       "      <td>0.188812</td>\n",
       "      <td>0.242597</td>\n",
       "      <td>0.109970</td>\n",
       "      <td>0.208829</td>\n",
       "    </tr>\n",
       "    <tr>\n",
       "      <th>50%</th>\n",
       "      <td>41.163750</td>\n",
       "      <td>-8.623750</td>\n",
       "      <td>91.356868</td>\n",
       "      <td>32.283162</td>\n",
       "      <td>56.634541</td>\n",
       "      <td>80.809132</td>\n",
       "      <td>58.539605</td>\n",
       "      <td>0.355135</td>\n",
       "      <td>0.205807</td>\n",
       "      <td>0.297269</td>\n",
       "      <td>0.393305</td>\n",
       "      <td>0.216987</td>\n",
       "      <td>0.295315</td>\n",
       "    </tr>\n",
       "    <tr>\n",
       "      <th>75%</th>\n",
       "      <td>41.175625</td>\n",
       "      <td>-8.590000</td>\n",
       "      <td>136.924915</td>\n",
       "      <td>55.378146</td>\n",
       "      <td>82.676931</td>\n",
       "      <td>117.178573</td>\n",
       "      <td>98.395686</td>\n",
       "      <td>0.536400</td>\n",
       "      <td>0.359612</td>\n",
       "      <td>0.439576</td>\n",
       "      <td>0.573715</td>\n",
       "      <td>0.369057</td>\n",
       "      <td>0.437428</td>\n",
       "    </tr>\n",
       "    <tr>\n",
       "      <th>max</th>\n",
       "      <td>41.187500</td>\n",
       "      <td>-8.557500</td>\n",
       "      <td>253.468530</td>\n",
       "      <td>151.536710</td>\n",
       "      <td>185.235744</td>\n",
       "      <td>203.114878</td>\n",
       "      <td>263.759723</td>\n",
       "      <td>1.000000</td>\n",
       "      <td>1.000000</td>\n",
       "      <td>1.000000</td>\n",
       "      <td>1.000000</td>\n",
       "      <td>1.000000</td>\n",
       "      <td>0.878107</td>\n",
       "    </tr>\n",
       "  </tbody>\n",
       "</table>\n",
       "</div>"
      ],
      "text/plain": [
       "              long          lat        green       ed_pre      ed_prim  \\\n",
       "count  1080.000000  1080.000000  1080.000000  1080.000000  1080.000000   \n",
       "mean     41.163750    -8.623750    97.984140    39.978064    62.827738   \n",
       "std       0.014422     0.038983    54.064701    27.323371    34.734550   \n",
       "min      41.140000    -8.690000     2.080153     1.379907     2.233591   \n",
       "25%      41.151875    -8.657500    53.811507    19.464778    36.786573   \n",
       "50%      41.163750    -8.623750    91.356868    32.283162    56.634541   \n",
       "75%      41.175625    -8.590000   136.924915    55.378146    82.676931   \n",
       "max      41.187500    -8.557500   253.468530   151.536710   185.235744   \n",
       "\n",
       "         ed_second       ed_sup  green_scaled  ed_pre_scaled  ed_prim_scaled  \\\n",
       "count  1080.000000  1080.000000   1080.000000    1080.000000     1080.000000   \n",
       "mean     83.824697    69.311213      0.381497       0.257052        0.331112   \n",
       "std      43.026535    50.398427      0.215064       0.181966        0.189804   \n",
       "min       1.521529     1.669363      0.000000       0.000000        0.000000   \n",
       "25%      50.427486    30.491485      0.205783       0.120440        0.188812   \n",
       "50%      80.809132    58.539605      0.355135       0.205807        0.297269   \n",
       "75%     117.178573    98.395686      0.536400       0.359612        0.439576   \n",
       "max     203.114878   263.759723      1.000000       1.000000        1.000000   \n",
       "\n",
       "       ed_second_scaled  ed_sup_scaled          QOL  \n",
       "count       1080.000000    1080.000000  1080.000000  \n",
       "mean           0.408263       0.258086     0.327202  \n",
       "std            0.213432       0.192294     0.155910  \n",
       "min            0.000000       0.000000     0.066844  \n",
       "25%            0.242597       0.109970     0.208829  \n",
       "50%            0.393305       0.216987     0.295315  \n",
       "75%            0.573715       0.369057     0.437428  \n",
       "max            1.000000       1.000000     0.878107  "
      ]
     },
     "execution_count": 97,
     "metadata": {},
     "output_type": "execute_result"
    }
   ],
   "source": [
    "df.describe()"
   ]
  },
  {
   "cell_type": "code",
   "execution_count": 98,
   "metadata": {},
   "outputs": [],
   "source": [
    "df_output = df[[\"long\", \"lat\", \"QOL\"]].copy() "
   ]
  },
  {
   "cell_type": "code",
   "execution_count": 101,
   "metadata": {},
   "outputs": [],
   "source": [
    "df_output.to_csv(\"quality_measure.csv\", sep=\"\\t\")"
   ]
  }
 ],
 "metadata": {
  "kernelspec": {
   "display_name": "Python 3",
   "language": "python",
   "name": "python3"
  },
  "language_info": {
   "codemirror_mode": {
    "name": "ipython",
    "version": 3
   },
   "file_extension": ".py",
   "mimetype": "text/x-python",
   "name": "python",
   "nbconvert_exporter": "python",
   "pygments_lexer": "ipython3",
   "version": "3.7.1"
  }
 },
 "nbformat": 4,
 "nbformat_minor": 2
}
