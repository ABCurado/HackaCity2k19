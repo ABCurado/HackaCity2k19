{
 "cells": [
  {
   "cell_type": "code",
   "execution_count": null,
   "metadata": {},
   "outputs": [],
   "source": [
    "import json\n",
    "with open('porto_polygon', 'r') as content_file:\n",
    "    data = json.load(content_file)\n",
    "lons_vect = [point[0] for point in data[\"geometry\"][\"coordinates\"][0]]\n",
    "lats_vect = [point[1] for point in data[\"geometry\"][\"coordinates\"][0]]\n",
    "\n",
    "!pip install shapely\n",
    "from shapely.geometry import Point\n",
    "from shapely.geometry.polygon import Polygon\n",
    "lons_lats_vect = np.column_stack((lons_vect, lats_vect)) # Reshape coordinates\n",
    "polygon = Polygon(lons_lats_vect) # create polygon\n",
    "\n",
    "def point_in_porto(long, lat):\n",
    "    point = Point(lat,long) # create point\n",
    "    return point.within(polygon) # check if a point is in the polygon "
   ]
  }
 ],
 "metadata": {
  "kernelspec": {
   "display_name": "Python 3",
   "language": "python",
   "name": "python3"
  },
  "language_info": {
   "codemirror_mode": {
    "name": "ipython",
    "version": 3
   },
   "file_extension": ".py",
   "mimetype": "text/x-python",
   "name": "python",
   "nbconvert_exporter": "python",
   "pygments_lexer": "ipython3",
   "version": "3.6.3"
  }
 },
 "nbformat": 4,
 "nbformat_minor": 2
}
