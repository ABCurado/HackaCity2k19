{
 "cells": [
  {
   "cell_type": "code",
   "execution_count": 9,
   "metadata": {},
   "outputs": [],
   "source": [
    "import numpy as np\n",
    "from itertools import product\n",
    "import json\n",
    "import pandas\n",
    "\n",
    "stepsize = 0.0005\n",
    "lonmin, lonmax = 41.14, 41.19\n",
    "latmin, latmax = -8.69, -8.555\n",
    "ys = np.arange(lonmin, lonmax, stepsize)\n",
    "xs = np.arange(latmin, latmax, stepsize)\n",
    "grid = list(product(ys, xs))\n",
    "\n",
    "with open('porto_polygon.geojson', 'r') as content_file:\n",
    "    data = json.load(content_file)\n",
    "lons_vect = [point[0] for point in data[\"geometry\"][\"coordinates\"][0]]\n",
    "lats_vect = [point[1] for point in data[\"geometry\"][\"coordinates\"][0]]\n",
    "\n",
    "from shapely.geometry import Point\n",
    "from shapely.geometry.polygon import Polygon\n",
    "lons_lats_vect = np.column_stack((lons_vect, lats_vect)) # Reshape coordinates\n",
    "polygon = Polygon(lons_lats_vect) # create polygon\n",
    "\n",
    "def point_in_porto(long, lat):\n",
    "    point = Point(lat,long) # create point\n",
    "    return point.within(polygon) # check if a point is in the polygon \n",
    "\n",
    "filtered_grid = [[long, lat] for long, lat in grid if point_in_porto(long,lat)]\n",
    "df = pandas.DataFrame(data=filtered_grid)\n",
    "df.columns = [\"lat\", \"long\"]\n",
    "df.to_csv(\"coordinate_grid.csv\", sep=',',index=False)"
   ]
  },
  {
   "cell_type": "code",
   "execution_count": null,
   "metadata": {},
   "outputs": [],
   "source": []
  }
 ],
 "metadata": {
  "kernelspec": {
   "display_name": "Python 3",
   "language": "python",
   "name": "python3"
  },
  "language_info": {
   "codemirror_mode": {
    "name": "ipython",
    "version": 3
   },
   "file_extension": ".py",
   "mimetype": "text/x-python",
   "name": "python",
   "nbconvert_exporter": "python",
   "pygments_lexer": "ipython3",
   "version": "3.6.3"
  }
 },
 "nbformat": 4,
 "nbformat_minor": 2
}
