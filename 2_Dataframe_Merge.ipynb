{
 "cells": [
  {
   "cell_type": "markdown",
   "metadata": {},
   "source": [
    "In this workbook we want to merge all data into one final dataframe, that is used as the basis for the heatmap.\n",
    "The structure should be like:\n",
    "\n",
    "x | y | dist_educ | dist_... | ... | scaled_dist_educ | scaled_dist_... | ... | final_measure"
   ]
  },
  {
   "cell_type": "code",
   "execution_count": 121,
   "metadata": {},
   "outputs": [],
   "source": [
    "import pandas as pd"
   ]
  },
  {
   "cell_type": "code",
   "execution_count": 122,
   "metadata": {},
   "outputs": [],
   "source": [
    "# import the datapoints for the Porto grid\n",
    "df = pd.read_csv(\"coordinate_grid.csv\", sep=\",\")"
   ]
  },
  {
   "cell_type": "code",
   "execution_count": 123,
   "metadata": {},
   "outputs": [],
   "source": [
    "# import green areas\n",
    "df_green = pd.read_csv(\"Data/green_areas_df.csv\", sep=\"\\t\")"
   ]
  },
  {
   "cell_type": "code",
   "execution_count": 124,
   "metadata": {},
   "outputs": [],
   "source": [
    "# import preschools\n",
    "df_ed_pre = pd.read_csv(\"Data/Education/preschools.csv\")"
   ]
  },
  {
   "cell_type": "code",
   "execution_count": 125,
   "metadata": {},
   "outputs": [],
   "source": [
    "# import primary schools\n",
    "df_ed_prim = pd.read_csv(\"Data/Education/primaryschools.csv\")"
   ]
  },
  {
   "cell_type": "code",
   "execution_count": 126,
   "metadata": {},
   "outputs": [],
   "source": [
    "# import secondary schools\n",
    "df_ed_second = pd.read_csv(\"Data/Education/secondaryschools.csv\")"
   ]
  },
  {
   "cell_type": "code",
   "execution_count": 127,
   "metadata": {},
   "outputs": [],
   "source": [
    "# import superior schools\n",
    "df_ed_sup = pd.read_csv(\"Data/Education/superiorschools.csv\")"
   ]
  },
  {
   "cell_type": "code",
   "execution_count": 128,
   "metadata": {},
   "outputs": [],
   "source": [
    "# import bus\n",
    "df_pt_bus = pd.read_csv(\"Data/PublicTransport/bus_stops.csv\")"
   ]
  },
  {
   "cell_type": "code",
   "execution_count": 129,
   "metadata": {},
   "outputs": [],
   "source": [
    "# import metro\n",
    "df_pt_metro = pd.read_csv(\"Data/PublicTransport/metro_stations.csv\")"
   ]
  },
  {
   "cell_type": "code",
   "execution_count": 130,
   "metadata": {},
   "outputs": [],
   "source": [
    "# import landfill dumps\n",
    "df_lf_dumps = pd.read_csv(\"Data/landfill_dumps_df.csv\")"
   ]
  },
  {
   "cell_type": "code",
   "execution_count": 131,
   "metadata": {},
   "outputs": [],
   "source": [
    "# import market faires\n",
    "df_market = pd.read_csv(\"Data/market_faires_df.csv\", sep=\"\\t\")"
   ]
  },
  {
   "cell_type": "code",
   "execution_count": 132,
   "metadata": {},
   "outputs": [],
   "source": [
    "# import scrap dumps\n",
    "df_sc_dumps = pd.read_csv(\"Data/scrap_dumps_df.csv\")"
   ]
  },
  {
   "cell_type": "code",
   "execution_count": 133,
   "metadata": {},
   "outputs": [],
   "source": [
    "# import scrap dumps\n",
    "df_shopping = pd.read_csv(\"Data/shopping_center_df.csv\", sep=\"\\t\")"
   ]
  },
  {
   "cell_type": "code",
   "execution_count": 134,
   "metadata": {},
   "outputs": [],
   "source": [
    "# import scrap dumps\n",
    "df_restaurants = pd.read_csv(\"Data/restaurants.csv\")"
   ]
  },
  {
   "cell_type": "code",
   "execution_count": 135,
   "metadata": {},
   "outputs": [],
   "source": [
    "# import scrap dumps\n",
    "df_religous = pd.read_csv(\"Data/religous_buildings_df.csv\", sep=\"\\t\")"
   ]
  },
  {
   "cell_type": "code",
   "execution_count": 136,
   "metadata": {},
   "outputs": [],
   "source": [
    "# import scrap dumps\n",
    "df_sports = pd.read_csv(\"Data/sports_df.csv\", sep=\"\\t\")"
   ]
  },
  {
   "cell_type": "code",
   "execution_count": 137,
   "metadata": {},
   "outputs": [],
   "source": [
    "# import scrap dumps\n",
    "df_theaters = pd.read_csv(\"Data/theaters_df.csv\", sep=\"\\t\")"
   ]
  },
  {
   "cell_type": "code",
   "execution_count": 138,
   "metadata": {},
   "outputs": [],
   "source": [
    "# import scrap dumps\n",
    "df_hospitals = pd.read_csv(\"Data/hospitals_df.csv\", sep=\"\\t\")"
   ]
  },
  {
   "cell_type": "markdown",
   "metadata": {},
   "source": [
    "Done with uploading!!!"
   ]
  },
  {
   "cell_type": "code",
   "execution_count": 139,
   "metadata": {},
   "outputs": [],
   "source": [
    "#function that computes the distance to the closeset point of interest\n",
    "def calculate_dist(df):\n",
    "    def calculate(row):\n",
    "        y = row[\"lat\"]\n",
    "        x = row[\"long\"]\n",
    "        temp_list = []\n",
    "        for i in range(df.shape[0]):\n",
    "            dist = get_distance(df.loc[i,\"y\"], df.loc[i, \"x\"], y, x)\n",
    "            temp_list.append(dist)\n",
    "        return min(temp_list)\n",
    "    return calculate"
   ]
  },
  {
   "cell_type": "code",
   "execution_count": 140,
   "metadata": {},
   "outputs": [],
   "source": [
    "# credit to: https://stackoverflow.com/questions/44743075/calculate-the-distance-between-two-coordinates-with-python\n",
    "import math\n",
    "\n",
    "def get_distance(y_1, x_1, y_2, x_2): \n",
    "    d_y = y_2 - y_1\n",
    "    d_x = x_2 - x_1 \n",
    "\n",
    "    temp = (  \n",
    "         math.sin(d_y / 2) ** 2 \n",
    "       + math.cos(y_1) \n",
    "       * math.cos(y_2) \n",
    "       * math.sin(d_x / 2) ** 2\n",
    "    )\n",
    "\n",
    "    return 6373.0 * (2 * math.atan2(math.sqrt(temp), math.sqrt(1 - temp)))"
   ]
  },
  {
   "cell_type": "markdown",
   "metadata": {},
   "source": [
    "Merge all dataframes and calculate distances!"
   ]
  },
  {
   "cell_type": "code",
   "execution_count": 141,
   "metadata": {},
   "outputs": [],
   "source": [
    "df[\"green\"] = df.apply(calculate_dist(df_green), axis=1)"
   ]
  },
  {
   "cell_type": "code",
   "execution_count": 142,
   "metadata": {},
   "outputs": [],
   "source": [
    "df[\"ed_pre\"] = df.apply(calculate_dist(df_ed_pre), axis=1)"
   ]
  },
  {
   "cell_type": "code",
   "execution_count": 143,
   "metadata": {},
   "outputs": [],
   "source": [
    "df[\"ed_prim\"] = df.apply(calculate_dist(df_ed_prim), axis=1)"
   ]
  },
  {
   "cell_type": "code",
   "execution_count": 144,
   "metadata": {},
   "outputs": [],
   "source": [
    "df[\"ed_second\"] = df.apply(calculate_dist(df_ed_second), axis=1)"
   ]
  },
  {
   "cell_type": "code",
   "execution_count": 145,
   "metadata": {},
   "outputs": [],
   "source": [
    "df[\"ed_sup\"] = df.apply(calculate_dist(df_ed_sup), axis=1)"
   ]
  },
  {
   "cell_type": "code",
   "execution_count": 146,
   "metadata": {},
   "outputs": [],
   "source": [
    "df[\"pt_bus\"] = df.apply(calculate_dist(df_pt_bus), axis=1)"
   ]
  },
  {
   "cell_type": "code",
   "execution_count": 147,
   "metadata": {},
   "outputs": [],
   "source": [
    "df[\"pt_metro\"] = df.apply(calculate_dist(df_pt_metro), axis=1)"
   ]
  },
  {
   "cell_type": "code",
   "execution_count": 148,
   "metadata": {},
   "outputs": [],
   "source": [
    "df[\"lf_dumps\"] = df.apply(calculate_dist(df_lf_dumps), axis=1)"
   ]
  },
  {
   "cell_type": "code",
   "execution_count": 149,
   "metadata": {},
   "outputs": [],
   "source": [
    "df[\"market\"] = df.apply(calculate_dist(df_market), axis=1)"
   ]
  },
  {
   "cell_type": "code",
   "execution_count": 150,
   "metadata": {},
   "outputs": [],
   "source": [
    "df[\"sc_dumps\"] = df.apply(calculate_dist(df_sc_dumps), axis=1)"
   ]
  },
  {
   "cell_type": "code",
   "execution_count": 151,
   "metadata": {},
   "outputs": [],
   "source": [
    "df[\"sc_shopping\"] = df.apply(calculate_dist(df_shopping), axis=1)"
   ]
  },
  {
   "cell_type": "code",
   "execution_count": 152,
   "metadata": {},
   "outputs": [],
   "source": [
    "df[\"restaurants\"] = df.apply(calculate_dist(df_restaurants), axis=1)"
   ]
  },
  {
   "cell_type": "code",
   "execution_count": 153,
   "metadata": {},
   "outputs": [],
   "source": [
    "df[\"religous\"] = df.apply(calculate_dist(df_religous), axis=1)"
   ]
  },
  {
   "cell_type": "code",
   "execution_count": 154,
   "metadata": {},
   "outputs": [],
   "source": [
    "df[\"sports\"] = df.apply(calculate_dist(df_sports), axis=1)"
   ]
  },
  {
   "cell_type": "code",
   "execution_count": 155,
   "metadata": {},
   "outputs": [],
   "source": [
    "df[\"theaters\"] = df.apply(calculate_dist(df_theaters), axis=1)"
   ]
  },
  {
   "cell_type": "code",
   "execution_count": 156,
   "metadata": {},
   "outputs": [],
   "source": [
    "df[\"hospitals\"] = df.apply(calculate_dist(df_hospitals), axis=1)"
   ]
  },
  {
   "cell_type": "markdown",
   "metadata": {},
   "source": [
    "Scale these badboys\"!"
   ]
  },
  {
   "cell_type": "code",
   "execution_count": 157,
   "metadata": {},
   "outputs": [],
   "source": [
    "from sklearn.preprocessing import MinMaxScaler\n",
    "scaler = MinMaxScaler()"
   ]
  },
  {
   "cell_type": "code",
   "execution_count": 158,
   "metadata": {},
   "outputs": [],
   "source": [
    "df[\"green_scaled\"] = scaler.fit_transform(df[['green']])"
   ]
  },
  {
   "cell_type": "code",
   "execution_count": 159,
   "metadata": {},
   "outputs": [],
   "source": [
    "df[\"ed_pre_scaled\"] = scaler.fit_transform(df[['ed_pre']])"
   ]
  },
  {
   "cell_type": "code",
   "execution_count": 160,
   "metadata": {},
   "outputs": [],
   "source": [
    "df[\"ed_prim_scaled\"] = scaler.fit_transform(df[['ed_prim']])"
   ]
  },
  {
   "cell_type": "code",
   "execution_count": 161,
   "metadata": {},
   "outputs": [],
   "source": [
    "df[\"ed_second_scaled\"] = scaler.fit_transform(df[['ed_second']])"
   ]
  },
  {
   "cell_type": "code",
   "execution_count": 162,
   "metadata": {},
   "outputs": [],
   "source": [
    "df[\"ed_sup_scaled\"] = scaler.fit_transform(df[['ed_sup']])"
   ]
  },
  {
   "cell_type": "code",
   "execution_count": 163,
   "metadata": {},
   "outputs": [],
   "source": [
    "df[\"pt_bus_scaled\"] = scaler.fit_transform(df[['pt_bus']])"
   ]
  },
  {
   "cell_type": "code",
   "execution_count": 164,
   "metadata": {},
   "outputs": [],
   "source": [
    "df[\"pt_metro_scaled\"] = scaler.fit_transform(df[['pt_metro']])"
   ]
  },
  {
   "cell_type": "code",
   "execution_count": 165,
   "metadata": {},
   "outputs": [],
   "source": [
    "df[\"lf_dumps_scaled\"] = scaler.fit_transform(df[['lf_dumps']])"
   ]
  },
  {
   "cell_type": "code",
   "execution_count": 166,
   "metadata": {},
   "outputs": [],
   "source": [
    "df[\"market_scaled\"] = scaler.fit_transform(df[['market']])"
   ]
  },
  {
   "cell_type": "code",
   "execution_count": 167,
   "metadata": {},
   "outputs": [],
   "source": [
    "df[\"sc_dumps_scaled\"] = scaler.fit_transform(df[['sc_dumps']])"
   ]
  },
  {
   "cell_type": "code",
   "execution_count": 168,
   "metadata": {},
   "outputs": [
    {
     "data": {
      "text/html": [
       "<div>\n",
       "<style scoped>\n",
       "    .dataframe tbody tr th:only-of-type {\n",
       "        vertical-align: middle;\n",
       "    }\n",
       "\n",
       "    .dataframe tbody tr th {\n",
       "        vertical-align: top;\n",
       "    }\n",
       "\n",
       "    .dataframe thead th {\n",
       "        text-align: right;\n",
       "    }\n",
       "</style>\n",
       "<table border=\"1\" class=\"dataframe\">\n",
       "  <thead>\n",
       "    <tr style=\"text-align: right;\">\n",
       "      <th></th>\n",
       "      <th>lat</th>\n",
       "      <th>long</th>\n",
       "      <th>green</th>\n",
       "      <th>ed_pre</th>\n",
       "      <th>ed_prim</th>\n",
       "      <th>ed_second</th>\n",
       "      <th>ed_sup</th>\n",
       "      <th>pt_bus</th>\n",
       "      <th>pt_metro</th>\n",
       "      <th>lf_dumps</th>\n",
       "      <th>...</th>\n",
       "      <th>green_scaled</th>\n",
       "      <th>ed_pre_scaled</th>\n",
       "      <th>ed_prim_scaled</th>\n",
       "      <th>ed_second_scaled</th>\n",
       "      <th>ed_sup_scaled</th>\n",
       "      <th>pt_bus_scaled</th>\n",
       "      <th>pt_metro_scaled</th>\n",
       "      <th>lf_dumps_scaled</th>\n",
       "      <th>market_scaled</th>\n",
       "      <th>sc_dumps_scaled</th>\n",
       "    </tr>\n",
       "  </thead>\n",
       "  <tbody>\n",
       "    <tr>\n",
       "      <th>count</th>\n",
       "      <td>17623.000000</td>\n",
       "      <td>17623.000000</td>\n",
       "      <td>17623.000000</td>\n",
       "      <td>17623.000000</td>\n",
       "      <td>17623.000000</td>\n",
       "      <td>17623.000000</td>\n",
       "      <td>17623.000000</td>\n",
       "      <td>17623.000000</td>\n",
       "      <td>17623.000000</td>\n",
       "      <td>17623.000000</td>\n",
       "      <td>...</td>\n",
       "      <td>17623.000000</td>\n",
       "      <td>17623.000000</td>\n",
       "      <td>17623.000000</td>\n",
       "      <td>17623.000000</td>\n",
       "      <td>17623.000000</td>\n",
       "      <td>17623.000000</td>\n",
       "      <td>17623.000000</td>\n",
       "      <td>17623.000000</td>\n",
       "      <td>17623.000000</td>\n",
       "      <td>17623.000000</td>\n",
       "    </tr>\n",
       "    <tr>\n",
       "      <th>mean</th>\n",
       "      <td>41.161893</td>\n",
       "      <td>-8.621015</td>\n",
       "      <td>80.776825</td>\n",
       "      <td>25.508386</td>\n",
       "      <td>46.157384</td>\n",
       "      <td>61.849240</td>\n",
       "      <td>53.924551</td>\n",
       "      <td>13.653880</td>\n",
       "      <td>72.636978</td>\n",
       "      <td>46.835837</td>\n",
       "      <td>...</td>\n",
       "      <td>0.365595</td>\n",
       "      <td>0.242231</td>\n",
       "      <td>0.318176</td>\n",
       "      <td>0.431516</td>\n",
       "      <td>0.245322</td>\n",
       "      <td>0.221269</td>\n",
       "      <td>0.267886</td>\n",
       "      <td>0.304732</td>\n",
       "      <td>0.287002</td>\n",
       "      <td>0.350996</td>\n",
       "    </tr>\n",
       "    <tr>\n",
       "      <th>std</th>\n",
       "      <td>0.010941</td>\n",
       "      <td>0.033328</td>\n",
       "      <td>44.792415</td>\n",
       "      <td>14.449457</td>\n",
       "      <td>22.645612</td>\n",
       "      <td>29.916671</td>\n",
       "      <td>43.136133</td>\n",
       "      <td>8.118606</td>\n",
       "      <td>63.225537</td>\n",
       "      <td>26.542158</td>\n",
       "      <td>...</td>\n",
       "      <td>0.204169</td>\n",
       "      <td>0.137930</td>\n",
       "      <td>0.157899</td>\n",
       "      <td>0.210248</td>\n",
       "      <td>0.197006</td>\n",
       "      <td>0.132524</td>\n",
       "      <td>0.233694</td>\n",
       "      <td>0.174814</td>\n",
       "      <td>0.175204</td>\n",
       "      <td>0.278796</td>\n",
       "    </tr>\n",
       "    <tr>\n",
       "      <th>min</th>\n",
       "      <td>41.140000</td>\n",
       "      <td>-8.690000</td>\n",
       "      <td>0.569246</td>\n",
       "      <td>0.132413</td>\n",
       "      <td>0.524962</td>\n",
       "      <td>0.447793</td>\n",
       "      <td>0.209224</td>\n",
       "      <td>0.098680</td>\n",
       "      <td>0.160898</td>\n",
       "      <td>0.568061</td>\n",
       "      <td>...</td>\n",
       "      <td>0.000000</td>\n",
       "      <td>0.000000</td>\n",
       "      <td>0.000000</td>\n",
       "      <td>0.000000</td>\n",
       "      <td>0.000000</td>\n",
       "      <td>0.000000</td>\n",
       "      <td>0.000000</td>\n",
       "      <td>0.000000</td>\n",
       "      <td>0.000000</td>\n",
       "      <td>0.000000</td>\n",
       "    </tr>\n",
       "    <tr>\n",
       "      <th>25%</th>\n",
       "      <td>41.153000</td>\n",
       "      <td>-8.648500</td>\n",
       "      <td>45.614487</td>\n",
       "      <td>15.207390</td>\n",
       "      <td>29.711871</td>\n",
       "      <td>38.297385</td>\n",
       "      <td>21.109219</td>\n",
       "      <td>7.561695</td>\n",
       "      <td>26.536709</td>\n",
       "      <td>27.495168</td>\n",
       "      <td>...</td>\n",
       "      <td>0.205321</td>\n",
       "      <td>0.143901</td>\n",
       "      <td>0.203508</td>\n",
       "      <td>0.265999</td>\n",
       "      <td>0.095452</td>\n",
       "      <td>0.121823</td>\n",
       "      <td>0.097490</td>\n",
       "      <td>0.177349</td>\n",
       "      <td>0.157478</td>\n",
       "      <td>0.105471</td>\n",
       "    </tr>\n",
       "    <tr>\n",
       "      <th>50%</th>\n",
       "      <td>41.162000</td>\n",
       "      <td>-8.618500</td>\n",
       "      <td>74.664554</td>\n",
       "      <td>23.390514</td>\n",
       "      <td>44.049250</td>\n",
       "      <td>60.934905</td>\n",
       "      <td>42.531395</td>\n",
       "      <td>12.374763</td>\n",
       "      <td>49.478878</td>\n",
       "      <td>43.078535</td>\n",
       "      <td>...</td>\n",
       "      <td>0.337735</td>\n",
       "      <td>0.222015</td>\n",
       "      <td>0.303477</td>\n",
       "      <td>0.425091</td>\n",
       "      <td>0.193289</td>\n",
       "      <td>0.200389</td>\n",
       "      <td>0.182289</td>\n",
       "      <td>0.279985</td>\n",
       "      <td>0.252859</td>\n",
       "      <td>0.267636</td>\n",
       "    </tr>\n",
       "    <tr>\n",
       "      <th>75%</th>\n",
       "      <td>41.171000</td>\n",
       "      <td>-8.593500</td>\n",
       "      <td>110.667388</td>\n",
       "      <td>33.213501</td>\n",
       "      <td>59.820601</td>\n",
       "      <td>84.141948</td>\n",
       "      <td>74.127989</td>\n",
       "      <td>18.368682</td>\n",
       "      <td>97.196016</td>\n",
       "      <td>60.520121</td>\n",
       "      <td>...</td>\n",
       "      <td>0.501839</td>\n",
       "      <td>0.315782</td>\n",
       "      <td>0.413444</td>\n",
       "      <td>0.588185</td>\n",
       "      <td>0.337593</td>\n",
       "      <td>0.298231</td>\n",
       "      <td>0.358662</td>\n",
       "      <td>0.394860</td>\n",
       "      <td>0.378709</td>\n",
       "      <td>0.572724</td>\n",
       "    </tr>\n",
       "    <tr>\n",
       "      <th>max</th>\n",
       "      <td>41.185500</td>\n",
       "      <td>-8.555500</td>\n",
       "      <td>219.958455</td>\n",
       "      <td>104.891640</td>\n",
       "      <td>143.943605</td>\n",
       "      <td>142.740064</td>\n",
       "      <td>219.167541</td>\n",
       "      <td>61.359913</td>\n",
       "      <td>270.708755</td>\n",
       "      <td>152.399176</td>\n",
       "      <td>...</td>\n",
       "      <td>1.000000</td>\n",
       "      <td>1.000000</td>\n",
       "      <td>1.000000</td>\n",
       "      <td>1.000000</td>\n",
       "      <td>1.000000</td>\n",
       "      <td>1.000000</td>\n",
       "      <td>1.000000</td>\n",
       "      <td>1.000000</td>\n",
       "      <td>1.000000</td>\n",
       "      <td>1.000000</td>\n",
       "    </tr>\n",
       "  </tbody>\n",
       "</table>\n",
       "<p>8 rows × 28 columns</p>\n",
       "</div>"
      ],
      "text/plain": [
       "                lat          long         green        ed_pre       ed_prim  \\\n",
       "count  17623.000000  17623.000000  17623.000000  17623.000000  17623.000000   \n",
       "mean      41.161893     -8.621015     80.776825     25.508386     46.157384   \n",
       "std        0.010941      0.033328     44.792415     14.449457     22.645612   \n",
       "min       41.140000     -8.690000      0.569246      0.132413      0.524962   \n",
       "25%       41.153000     -8.648500     45.614487     15.207390     29.711871   \n",
       "50%       41.162000     -8.618500     74.664554     23.390514     44.049250   \n",
       "75%       41.171000     -8.593500    110.667388     33.213501     59.820601   \n",
       "max       41.185500     -8.555500    219.958455    104.891640    143.943605   \n",
       "\n",
       "          ed_second        ed_sup        pt_bus      pt_metro      lf_dumps  \\\n",
       "count  17623.000000  17623.000000  17623.000000  17623.000000  17623.000000   \n",
       "mean      61.849240     53.924551     13.653880     72.636978     46.835837   \n",
       "std       29.916671     43.136133      8.118606     63.225537     26.542158   \n",
       "min        0.447793      0.209224      0.098680      0.160898      0.568061   \n",
       "25%       38.297385     21.109219      7.561695     26.536709     27.495168   \n",
       "50%       60.934905     42.531395     12.374763     49.478878     43.078535   \n",
       "75%       84.141948     74.127989     18.368682     97.196016     60.520121   \n",
       "max      142.740064    219.167541     61.359913    270.708755    152.399176   \n",
       "\n",
       "            ...         green_scaled  ed_pre_scaled  ed_prim_scaled  \\\n",
       "count       ...         17623.000000   17623.000000    17623.000000   \n",
       "mean        ...             0.365595       0.242231        0.318176   \n",
       "std         ...             0.204169       0.137930        0.157899   \n",
       "min         ...             0.000000       0.000000        0.000000   \n",
       "25%         ...             0.205321       0.143901        0.203508   \n",
       "50%         ...             0.337735       0.222015        0.303477   \n",
       "75%         ...             0.501839       0.315782        0.413444   \n",
       "max         ...             1.000000       1.000000        1.000000   \n",
       "\n",
       "       ed_second_scaled  ed_sup_scaled  pt_bus_scaled  pt_metro_scaled  \\\n",
       "count      17623.000000   17623.000000   17623.000000     17623.000000   \n",
       "mean           0.431516       0.245322       0.221269         0.267886   \n",
       "std            0.210248       0.197006       0.132524         0.233694   \n",
       "min            0.000000       0.000000       0.000000         0.000000   \n",
       "25%            0.265999       0.095452       0.121823         0.097490   \n",
       "50%            0.425091       0.193289       0.200389         0.182289   \n",
       "75%            0.588185       0.337593       0.298231         0.358662   \n",
       "max            1.000000       1.000000       1.000000         1.000000   \n",
       "\n",
       "       lf_dumps_scaled  market_scaled  sc_dumps_scaled  \n",
       "count     17623.000000   17623.000000     17623.000000  \n",
       "mean          0.304732       0.287002         0.350996  \n",
       "std           0.174814       0.175204         0.278796  \n",
       "min           0.000000       0.000000         0.000000  \n",
       "25%           0.177349       0.157478         0.105471  \n",
       "50%           0.279985       0.252859         0.267636  \n",
       "75%           0.394860       0.378709         0.572724  \n",
       "max           1.000000       1.000000         1.000000  \n",
       "\n",
       "[8 rows x 28 columns]"
      ]
     },
     "execution_count": 168,
     "metadata": {},
     "output_type": "execute_result"
    }
   ],
   "source": [
    "df.describe()"
   ]
  },
  {
   "cell_type": "code",
   "execution_count": 169,
   "metadata": {},
   "outputs": [],
   "source": [
    "weight_green = 0.2\n",
    "weight_ed_pre = 0.3/4\n",
    "weight_ed_prim = 0.3/4\n",
    "weight_ed_second = 0.1/4\n",
    "weight_ed_sup = 0.1/4\n",
    "weight_pt_bus = 0.2\n",
    "weight_pt_metro = 0.2\n",
    "weight_lf_dumps = 0.1\n",
    "weight_market = 0.2\n",
    "weight_sc_dumps = 0.05\n",
    "weight_shopping = 0.15"
   ]
  },
  {
   "cell_type": "code",
   "execution_count": 170,
   "metadata": {},
   "outputs": [],
   "source": [
    "df[\"QOL\"] = weight_green*df[\"green_scaled\"] + \\\n",
    "            weight_ed_pre*df[\"ed_pre_scaled\"] + \\\n",
    "            weight_ed_prim*df[\"ed_prim_scaled\"] + \\\n",
    "            weight_ed_second*df[\"ed_second_scaled\"] + \\\n",
    "            weight_ed_sup*df[\"ed_sup_scaled\"] + \\\n",
    "            weight_pt_bus*df[\"pt_bus_scaled\"] + \\\n",
    "            weight_pt_metro*df[\"pt_metro_scaled\"] - \\\n",
    "            weight_lf_dumps*df[\"lf_dumps_scaled\"] + \\\n",
    "            weight_market*df[\"market_scaled\"] - \\\n",
    "            weight_sc_dumps*df[\"sc_dumps_scaled\"] "
   ]
  },
  {
   "cell_type": "code",
   "execution_count": 171,
   "metadata": {},
   "outputs": [
    {
     "data": {
      "text/html": [
       "<div>\n",
       "<style scoped>\n",
       "    .dataframe tbody tr th:only-of-type {\n",
       "        vertical-align: middle;\n",
       "    }\n",
       "\n",
       "    .dataframe tbody tr th {\n",
       "        vertical-align: top;\n",
       "    }\n",
       "\n",
       "    .dataframe thead th {\n",
       "        text-align: right;\n",
       "    }\n",
       "</style>\n",
       "<table border=\"1\" class=\"dataframe\">\n",
       "  <thead>\n",
       "    <tr style=\"text-align: right;\">\n",
       "      <th></th>\n",
       "      <th>lat</th>\n",
       "      <th>long</th>\n",
       "      <th>green</th>\n",
       "      <th>ed_pre</th>\n",
       "      <th>ed_prim</th>\n",
       "      <th>ed_second</th>\n",
       "      <th>ed_sup</th>\n",
       "      <th>pt_bus</th>\n",
       "      <th>pt_metro</th>\n",
       "      <th>lf_dumps</th>\n",
       "      <th>...</th>\n",
       "      <th>ed_pre_scaled</th>\n",
       "      <th>ed_prim_scaled</th>\n",
       "      <th>ed_second_scaled</th>\n",
       "      <th>ed_sup_scaled</th>\n",
       "      <th>pt_bus_scaled</th>\n",
       "      <th>pt_metro_scaled</th>\n",
       "      <th>lf_dumps_scaled</th>\n",
       "      <th>market_scaled</th>\n",
       "      <th>sc_dumps_scaled</th>\n",
       "      <th>QOL</th>\n",
       "    </tr>\n",
       "  </thead>\n",
       "  <tbody>\n",
       "    <tr>\n",
       "      <th>count</th>\n",
       "      <td>17623.000000</td>\n",
       "      <td>17623.000000</td>\n",
       "      <td>17623.000000</td>\n",
       "      <td>17623.000000</td>\n",
       "      <td>17623.000000</td>\n",
       "      <td>17623.000000</td>\n",
       "      <td>17623.000000</td>\n",
       "      <td>17623.000000</td>\n",
       "      <td>17623.000000</td>\n",
       "      <td>17623.000000</td>\n",
       "      <td>...</td>\n",
       "      <td>17623.000000</td>\n",
       "      <td>17623.000000</td>\n",
       "      <td>17623.000000</td>\n",
       "      <td>17623.000000</td>\n",
       "      <td>17623.000000</td>\n",
       "      <td>17623.000000</td>\n",
       "      <td>17623.000000</td>\n",
       "      <td>17623.000000</td>\n",
       "      <td>17623.000000</td>\n",
       "      <td>17623.000000</td>\n",
       "    </tr>\n",
       "    <tr>\n",
       "      <th>mean</th>\n",
       "      <td>41.161893</td>\n",
       "      <td>-8.621015</td>\n",
       "      <td>80.776825</td>\n",
       "      <td>25.508386</td>\n",
       "      <td>46.157384</td>\n",
       "      <td>61.849240</td>\n",
       "      <td>53.924551</td>\n",
       "      <td>13.653880</td>\n",
       "      <td>72.636978</td>\n",
       "      <td>46.835837</td>\n",
       "      <td>...</td>\n",
       "      <td>0.242231</td>\n",
       "      <td>0.318176</td>\n",
       "      <td>0.431516</td>\n",
       "      <td>0.245322</td>\n",
       "      <td>0.221269</td>\n",
       "      <td>0.267886</td>\n",
       "      <td>0.304732</td>\n",
       "      <td>0.287002</td>\n",
       "      <td>0.350996</td>\n",
       "      <td>0.239279</td>\n",
       "    </tr>\n",
       "    <tr>\n",
       "      <th>std</th>\n",
       "      <td>0.010941</td>\n",
       "      <td>0.033328</td>\n",
       "      <td>44.792415</td>\n",
       "      <td>14.449457</td>\n",
       "      <td>22.645612</td>\n",
       "      <td>29.916671</td>\n",
       "      <td>43.136133</td>\n",
       "      <td>8.118606</td>\n",
       "      <td>63.225537</td>\n",
       "      <td>26.542158</td>\n",
       "      <td>...</td>\n",
       "      <td>0.137930</td>\n",
       "      <td>0.157899</td>\n",
       "      <td>0.210248</td>\n",
       "      <td>0.197006</td>\n",
       "      <td>0.132524</td>\n",
       "      <td>0.233694</td>\n",
       "      <td>0.174814</td>\n",
       "      <td>0.175204</td>\n",
       "      <td>0.278796</td>\n",
       "      <td>0.097795</td>\n",
       "    </tr>\n",
       "    <tr>\n",
       "      <th>min</th>\n",
       "      <td>41.140000</td>\n",
       "      <td>-8.690000</td>\n",
       "      <td>0.569246</td>\n",
       "      <td>0.132413</td>\n",
       "      <td>0.524962</td>\n",
       "      <td>0.447793</td>\n",
       "      <td>0.209224</td>\n",
       "      <td>0.098680</td>\n",
       "      <td>0.160898</td>\n",
       "      <td>0.568061</td>\n",
       "      <td>...</td>\n",
       "      <td>0.000000</td>\n",
       "      <td>0.000000</td>\n",
       "      <td>0.000000</td>\n",
       "      <td>0.000000</td>\n",
       "      <td>0.000000</td>\n",
       "      <td>0.000000</td>\n",
       "      <td>0.000000</td>\n",
       "      <td>0.000000</td>\n",
       "      <td>0.000000</td>\n",
       "      <td>0.034859</td>\n",
       "    </tr>\n",
       "    <tr>\n",
       "      <th>25%</th>\n",
       "      <td>41.153000</td>\n",
       "      <td>-8.648500</td>\n",
       "      <td>45.614487</td>\n",
       "      <td>15.207390</td>\n",
       "      <td>29.711871</td>\n",
       "      <td>38.297385</td>\n",
       "      <td>21.109219</td>\n",
       "      <td>7.561695</td>\n",
       "      <td>26.536709</td>\n",
       "      <td>27.495168</td>\n",
       "      <td>...</td>\n",
       "      <td>0.143901</td>\n",
       "      <td>0.203508</td>\n",
       "      <td>0.265999</td>\n",
       "      <td>0.095452</td>\n",
       "      <td>0.121823</td>\n",
       "      <td>0.097490</td>\n",
       "      <td>0.177349</td>\n",
       "      <td>0.157478</td>\n",
       "      <td>0.105471</td>\n",
       "      <td>0.163977</td>\n",
       "    </tr>\n",
       "    <tr>\n",
       "      <th>50%</th>\n",
       "      <td>41.162000</td>\n",
       "      <td>-8.618500</td>\n",
       "      <td>74.664554</td>\n",
       "      <td>23.390514</td>\n",
       "      <td>44.049250</td>\n",
       "      <td>60.934905</td>\n",
       "      <td>42.531395</td>\n",
       "      <td>12.374763</td>\n",
       "      <td>49.478878</td>\n",
       "      <td>43.078535</td>\n",
       "      <td>...</td>\n",
       "      <td>0.222015</td>\n",
       "      <td>0.303477</td>\n",
       "      <td>0.425091</td>\n",
       "      <td>0.193289</td>\n",
       "      <td>0.200389</td>\n",
       "      <td>0.182289</td>\n",
       "      <td>0.279985</td>\n",
       "      <td>0.252859</td>\n",
       "      <td>0.267636</td>\n",
       "      <td>0.241082</td>\n",
       "    </tr>\n",
       "    <tr>\n",
       "      <th>75%</th>\n",
       "      <td>41.171000</td>\n",
       "      <td>-8.593500</td>\n",
       "      <td>110.667388</td>\n",
       "      <td>33.213501</td>\n",
       "      <td>59.820601</td>\n",
       "      <td>84.141948</td>\n",
       "      <td>74.127989</td>\n",
       "      <td>18.368682</td>\n",
       "      <td>97.196016</td>\n",
       "      <td>60.520121</td>\n",
       "      <td>...</td>\n",
       "      <td>0.315782</td>\n",
       "      <td>0.413444</td>\n",
       "      <td>0.588185</td>\n",
       "      <td>0.337593</td>\n",
       "      <td>0.298231</td>\n",
       "      <td>0.358662</td>\n",
       "      <td>0.394860</td>\n",
       "      <td>0.378709</td>\n",
       "      <td>0.572724</td>\n",
       "      <td>0.303973</td>\n",
       "    </tr>\n",
       "    <tr>\n",
       "      <th>max</th>\n",
       "      <td>41.185500</td>\n",
       "      <td>-8.555500</td>\n",
       "      <td>219.958455</td>\n",
       "      <td>104.891640</td>\n",
       "      <td>143.943605</td>\n",
       "      <td>142.740064</td>\n",
       "      <td>219.167541</td>\n",
       "      <td>61.359913</td>\n",
       "      <td>270.708755</td>\n",
       "      <td>152.399176</td>\n",
       "      <td>...</td>\n",
       "      <td>1.000000</td>\n",
       "      <td>1.000000</td>\n",
       "      <td>1.000000</td>\n",
       "      <td>1.000000</td>\n",
       "      <td>1.000000</td>\n",
       "      <td>1.000000</td>\n",
       "      <td>1.000000</td>\n",
       "      <td>1.000000</td>\n",
       "      <td>1.000000</td>\n",
       "      <td>0.698348</td>\n",
       "    </tr>\n",
       "  </tbody>\n",
       "</table>\n",
       "<p>8 rows × 29 columns</p>\n",
       "</div>"
      ],
      "text/plain": [
       "                lat          long         green        ed_pre       ed_prim  \\\n",
       "count  17623.000000  17623.000000  17623.000000  17623.000000  17623.000000   \n",
       "mean      41.161893     -8.621015     80.776825     25.508386     46.157384   \n",
       "std        0.010941      0.033328     44.792415     14.449457     22.645612   \n",
       "min       41.140000     -8.690000      0.569246      0.132413      0.524962   \n",
       "25%       41.153000     -8.648500     45.614487     15.207390     29.711871   \n",
       "50%       41.162000     -8.618500     74.664554     23.390514     44.049250   \n",
       "75%       41.171000     -8.593500    110.667388     33.213501     59.820601   \n",
       "max       41.185500     -8.555500    219.958455    104.891640    143.943605   \n",
       "\n",
       "          ed_second        ed_sup        pt_bus      pt_metro      lf_dumps  \\\n",
       "count  17623.000000  17623.000000  17623.000000  17623.000000  17623.000000   \n",
       "mean      61.849240     53.924551     13.653880     72.636978     46.835837   \n",
       "std       29.916671     43.136133      8.118606     63.225537     26.542158   \n",
       "min        0.447793      0.209224      0.098680      0.160898      0.568061   \n",
       "25%       38.297385     21.109219      7.561695     26.536709     27.495168   \n",
       "50%       60.934905     42.531395     12.374763     49.478878     43.078535   \n",
       "75%       84.141948     74.127989     18.368682     97.196016     60.520121   \n",
       "max      142.740064    219.167541     61.359913    270.708755    152.399176   \n",
       "\n",
       "           ...       ed_pre_scaled  ed_prim_scaled  ed_second_scaled  \\\n",
       "count      ...        17623.000000    17623.000000      17623.000000   \n",
       "mean       ...            0.242231        0.318176          0.431516   \n",
       "std        ...            0.137930        0.157899          0.210248   \n",
       "min        ...            0.000000        0.000000          0.000000   \n",
       "25%        ...            0.143901        0.203508          0.265999   \n",
       "50%        ...            0.222015        0.303477          0.425091   \n",
       "75%        ...            0.315782        0.413444          0.588185   \n",
       "max        ...            1.000000        1.000000          1.000000   \n",
       "\n",
       "       ed_sup_scaled  pt_bus_scaled  pt_metro_scaled  lf_dumps_scaled  \\\n",
       "count   17623.000000   17623.000000     17623.000000     17623.000000   \n",
       "mean        0.245322       0.221269         0.267886         0.304732   \n",
       "std         0.197006       0.132524         0.233694         0.174814   \n",
       "min         0.000000       0.000000         0.000000         0.000000   \n",
       "25%         0.095452       0.121823         0.097490         0.177349   \n",
       "50%         0.193289       0.200389         0.182289         0.279985   \n",
       "75%         0.337593       0.298231         0.358662         0.394860   \n",
       "max         1.000000       1.000000         1.000000         1.000000   \n",
       "\n",
       "       market_scaled  sc_dumps_scaled           QOL  \n",
       "count   17623.000000     17623.000000  17623.000000  \n",
       "mean        0.287002         0.350996      0.239279  \n",
       "std         0.175204         0.278796      0.097795  \n",
       "min         0.000000         0.000000      0.034859  \n",
       "25%         0.157478         0.105471      0.163977  \n",
       "50%         0.252859         0.267636      0.241082  \n",
       "75%         0.378709         0.572724      0.303973  \n",
       "max         1.000000         1.000000      0.698348  \n",
       "\n",
       "[8 rows x 29 columns]"
      ]
     },
     "execution_count": 171,
     "metadata": {},
     "output_type": "execute_result"
    }
   ],
   "source": [
    "df.describe()"
   ]
  },
  {
   "cell_type": "code",
   "execution_count": 172,
   "metadata": {},
   "outputs": [],
   "source": [
    "df_output = df[[\"lat\", \"long\", \"QOL\"]].copy() "
   ]
  },
  {
   "cell_type": "code",
   "execution_count": 173,
   "metadata": {},
   "outputs": [],
   "source": [
    "df_output.to_csv(\"quality_measure.csv\", sep=\"\\t\")"
   ]
  }
 ],
 "metadata": {
  "kernelspec": {
   "display_name": "Python 3",
   "language": "python",
   "name": "python3"
  },
  "language_info": {
   "codemirror_mode": {
    "name": "ipython",
    "version": 3
   },
   "file_extension": ".py",
   "mimetype": "text/x-python",
   "name": "python",
   "nbconvert_exporter": "python",
   "pygments_lexer": "ipython3",
   "version": "3.6.3"
  }
 },
 "nbformat": 4,
 "nbformat_minor": 2
}
