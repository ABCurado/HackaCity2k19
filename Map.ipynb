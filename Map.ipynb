{
 "cells": [
  {
   "cell_type": "code",
   "execution_count": 9,
   "metadata": {},
   "outputs": [
    {
     "name": "stdout",
     "output_type": "stream",
     "text": [
      "Requirement already satisfied: folium in /opt/conda/lib/python3.6/site-packages\n",
      "Requirement already satisfied: six in /opt/conda/lib/python3.6/site-packages (from folium)\n",
      "Requirement already satisfied: jinja2 in /opt/conda/lib/python3.6/site-packages (from folium)\n",
      "Requirement already satisfied: branca>=0.3.0 in /opt/conda/lib/python3.6/site-packages (from folium)\n",
      "Requirement already satisfied: numpy in /opt/conda/lib/python3.6/site-packages (from folium)\n",
      "Requirement already satisfied: requests in /opt/conda/lib/python3.6/site-packages (from folium)\n",
      "Requirement already satisfied: MarkupSafe>=0.23 in /opt/conda/lib/python3.6/site-packages (from jinja2->folium)\n",
      "Requirement already satisfied: chardet<3.1.0,>=3.0.2 in /opt/conda/lib/python3.6/site-packages (from requests->folium)\n",
      "Requirement already satisfied: idna<2.8,>=2.5 in /opt/conda/lib/python3.6/site-packages (from requests->folium)\n",
      "Requirement already satisfied: urllib3<1.24,>=1.21.1 in /opt/conda/lib/python3.6/site-packages (from requests->folium)\n",
      "Requirement already satisfied: certifi>=2017.4.17 in /opt/conda/lib/python3.6/site-packages (from requests->folium)\n",
      "\u001b[33mYou are using pip version 9.0.3, however version 19.0.3 is available.\n",
      "You should consider upgrading via the 'pip install --upgrade pip' command.\u001b[0m\n"
     ]
    }
   ],
   "source": [
    "!pip install folium\n",
    "import folium\n",
    "import requests"
   ]
  },
  {
   "cell_type": "code",
   "execution_count": 10,
   "metadata": {},
   "outputs": [],
   "source": [
    "m = folium.Map(location=[ 41.14961,  -8.61099], zoom_start=14,tiles=\"Stamen Terrain\",)"
   ]
  },
  {
   "cell_type": "code",
   "execution_count": 12,
   "metadata": {},
   "outputs": [],
   "source": [
    "\n",
    "req_params = {\n",
    "    'f': 'json',\n",
    "    'where': \"1=1\",                        # 'where' clause is mandatory it takes a postgres-like query\n",
    "    #'where': \"n_o > 10\",                  # example where the number of reports event was over 10\n",
    "    #'where': \"freguesia = 'Bonfim'\",      # example for all the reports in 'Bonfim'\n",
    "    #'where': \"ano > 2000\",                # Caveat: For example in this dataset, this will not work as 'ano' is defined as \"esriFieldTypeString\"\n",
    "    'returnGeometry': 'true',\n",
    "    'outFields': '*',                      # the fields that you want returned\n",
    "    'orderByFields': 'objectid ASC', \n",
    "    #'resultOffset': '4000',\n",
    "    #'resultRecordCount': '1000',\n",
    "    'outSR': '4326',\n",
    "    #'token': str(TOKEN) \n",
    "}\n",
    "  "
   ]
  },
  {
   "cell_type": "code",
   "execution_count": 20,
   "metadata": {},
   "outputs": [
    {
     "name": "stdout",
     "output_type": "stream",
     "text": [
      "{'attributes': {'objectid': 1, 'cod_topo': 'LPVAR0', 'n_policia': ' ', 'cp_4': 4150, 'cp_3': 622, 'telf': 226171505, 'url': 'www.eb1-porto-n34.rcts.pt/', 'mail': 'info@eb1-porto-n32.rcts.pt', 'j_i': 'N', 't_inst': 'EB1', 'agr': 'Dr. Leonardo Coimbra Filho', 'est': 'Activo', 'estat': 'Público', 'carto_1000': 'C5', 'cod_freg': '06', 'planta': 'PLANTA\\\\CONDOMINHAS_PLANTA.pdf', 'n_ordem': '00003', 'cod_sgr': '1702', 'cod_gis': '06170200003', 'foto': 'maps.live.com/default.aspx?v=2&FORM=LMLTCP&cp=qvrnqrg8bx9b&style=o&lvl=2&tilt=-90&dir=0&alt=-1000&scene=23022184&phx=0&phy=0&phscl=1&encType=1&cid=4D1EC098267D9D7C!103', 'fax': 0, 'data_reg': 1245628800000, 'user_reg': 'josepaulo', 'n_eb1': 34, 'n_prim': 89, 'prop': 'Municipal', 'cantina': 0, 'descricao': ' ', 'fraccao': None, 'designacao': 'Condominhas', 'cod_giase': 1312897}, 'geometry': {'x': -8.654517789826967, 'y': 41.15109105071595}}\n"
     ]
    },
    {
     "ename": "KeyError",
     "evalue": "'geometry'",
     "output_type": "error",
     "traceback": [
      "\u001b[0;31m---------------------------------------------------------------------------\u001b[0m",
      "\u001b[0;31mKeyError\u001b[0m                                  Traceback (most recent call last)",
      "\u001b[0;32m<ipython-input-20-1b24e3b26819>\u001b[0m in \u001b[0;36m<module>\u001b[0;34m()\u001b[0m\n\u001b[1;32m      6\u001b[0m     \u001b[0mprint\u001b[0m\u001b[0;34m(\u001b[0m\u001b[0mmyItem\u001b[0m\u001b[0;34m)\u001b[0m\u001b[0;34m\u001b[0m\u001b[0m\n\u001b[1;32m      7\u001b[0m     \u001b[0mmyItemAttributes\u001b[0m \u001b[0;34m=\u001b[0m \u001b[0mmyItem\u001b[0m\u001b[0;34m[\u001b[0m\u001b[0;34m\"attributes\"\u001b[0m\u001b[0;34m]\u001b[0m\u001b[0;34m\u001b[0m\u001b[0m\n\u001b[0;32m----> 8\u001b[0;31m     \u001b[0mfolium\u001b[0m\u001b[0;34m.\u001b[0m\u001b[0mMarker\u001b[0m\u001b[0;34m(\u001b[0m \u001b[0mlocation\u001b[0m\u001b[0;34m=\u001b[0m\u001b[0;34m[\u001b[0m \u001b[0mdata\u001b[0m\u001b[0;34m[\u001b[0m\u001b[0;34m\"geometry\"\u001b[0m\u001b[0;34m]\u001b[0m\u001b[0;34m[\u001b[0m\u001b[0;34m\"x\"\u001b[0m\u001b[0;34m]\u001b[0m\u001b[0;34m,\u001b[0m \u001b[0mdata\u001b[0m\u001b[0;34m[\u001b[0m\u001b[0;34m\"geometry\"\u001b[0m\u001b[0;34m]\u001b[0m\u001b[0;34m[\u001b[0m\u001b[0;34m\"y\"\u001b[0m\u001b[0;34m]\u001b[0m \u001b[0;34m]\u001b[0m \u001b[0;34m)\u001b[0m\u001b[0;34m.\u001b[0m\u001b[0madd_to\u001b[0m\u001b[0;34m(\u001b[0m \u001b[0mm\u001b[0m \u001b[0;34m)\u001b[0m\u001b[0;34m\u001b[0m\u001b[0m\n\u001b[0m",
      "\u001b[0;31mKeyError\u001b[0m: 'geometry'"
     ]
    }
   ],
   "source": [
    "url = 'https://servsig.cm-porto.pt/arcgis/rest/services/OpenData_APD/OpenData_APD/MapServer/63/query'\n",
    "r = requests.get(url, params = req_params)\n",
    "data = r.json()\n",
    "\n",
    "for myItem in data[\"features\"]:\n",
    "    print(myItem)\n",
    "    myItemAttributes = myItem[\"attributes\"]\n",
    "    folium.Marker( location=[ data[\"geometry\"][\"x\"], data[\"geometry\"][\"y\"] ] ).add_to( m )\n"
   ]
  },
  {
   "cell_type": "code",
   "execution_count": null,
   "metadata": {},
   "outputs": [],
   "source": [
    "m"
   ]
  }
 ],
 "metadata": {
  "kernelspec": {
   "display_name": "Python 3",
   "language": "python",
   "name": "python3"
  },
  "language_info": {
   "codemirror_mode": {
    "name": "ipython",
    "version": 3
   },
   "file_extension": ".py",
   "mimetype": "text/x-python",
   "name": "python",
   "nbconvert_exporter": "python",
   "pygments_lexer": "ipython3",
   "version": "3.6.3"
  }
 },
 "nbformat": 4,
 "nbformat_minor": 2
}
