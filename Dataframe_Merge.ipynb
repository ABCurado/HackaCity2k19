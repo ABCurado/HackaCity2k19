{
 "cells": [
  {
   "cell_type": "markdown",
   "metadata": {},
   "source": [
    "In this workbook we want to merge all data into one final dataframe, that is used as the basis for the heatmap.\n",
    "The structure should be like:\n",
    "\n",
    "x | y | dist_educ | dist_... | ... | scaled_dist_educ | scaled_dist_... | ... | final_measure"
   ]
  },
  {
   "cell_type": "code",
   "execution_count": 1,
   "metadata": {},
   "outputs": [],
   "source": [
    "import pandas as pd"
   ]
  },
  {
   "cell_type": "code",
   "execution_count": 68,
   "metadata": {},
   "outputs": [],
   "source": [
    "# import the datapoints for the Porto grid\n",
    "df = pd.read_csv(\"gridref.csv\")"
   ]
  },
  {
   "cell_type": "code",
   "execution_count": 10,
   "metadata": {},
   "outputs": [],
   "source": [
    "# import green areas\n",
    "df_green = pd.read_csv(\"Data/green_areas_df.csv\", sep=\"\\t\")"
   ]
  },
  {
   "cell_type": "code",
   "execution_count": 13,
   "metadata": {},
   "outputs": [],
   "source": [
    "# import preschools\n",
    "df_ed_pre = pd.read_csv(\"Data/Education/preschools.csv\")"
   ]
  },
  {
   "cell_type": "code",
   "execution_count": 15,
   "metadata": {},
   "outputs": [],
   "source": [
    "# import primary schools\n",
    "df_ed_prim = pd.read_csv(\"Data/Education/primaryschools.csv\")"
   ]
  },
  {
   "cell_type": "code",
   "execution_count": 17,
   "metadata": {},
   "outputs": [],
   "source": [
    "# import secondary schools\n",
    "df_ed_second = pd.read_csv(\"Data/Education/secondaryschools.csv\")"
   ]
  },
  {
   "cell_type": "code",
   "execution_count": 19,
   "metadata": {},
   "outputs": [],
   "source": [
    "# import superior schools\n",
    "df_ed_sup = pd.read_csv(\"Data/Education/superiorschools.csv\")"
   ]
  },
  {
   "cell_type": "markdown",
   "metadata": {},
   "source": [
    "Done with uploading!!!"
   ]
  },
  {
   "cell_type": "code",
   "execution_count": 62,
   "metadata": {},
   "outputs": [],
   "source": [
    "#function that computes the distance to the closeset point of interest\n",
    "def calculate_dist(df):\n",
    "    def calculate(row):\n",
    "        y = row[\"long\"]\n",
    "        x = row[\"lat\"]\n",
    "        temp_list = []\n",
    "        for i in range(df.shape[0]):\n",
    "            dist = get_distance(df.loc[i,\"y\"], df.loc[i, \"x\"], y, x)\n",
    "            temp_list.append(dist)\n",
    "        return min(temp_list)\n",
    "    return calculate"
   ]
  },
  {
   "cell_type": "code",
   "execution_count": 23,
   "metadata": {},
   "outputs": [],
   "source": [
    "# credit to: https://stackoverflow.com/questions/44743075/calculate-the-distance-between-two-coordinates-with-python\n",
    "import math\n",
    "\n",
    "def get_distance(y_1, x_1, y_2, x_2): \n",
    "    d_y = y_2 - y_1\n",
    "    d_x = x_2 - x_1 \n",
    "\n",
    "    temp = (  \n",
    "         math.sin(d_y / 2) ** 2 \n",
    "       + math.cos(y_1) \n",
    "       * math.cos(y_2) \n",
    "       * math.sin(d_x / 2) ** 2\n",
    "    )\n",
    "\n",
    "    return 6373.0 * (2 * math.atan2(math.sqrt(temp), math.sqrt(1 - temp)))"
   ]
  },
  {
   "cell_type": "markdown",
   "metadata": {},
   "source": [
    "Merge all dataframes and calculate distances!"
   ]
  },
  {
   "cell_type": "code",
   "execution_count": 69,
   "metadata": {},
   "outputs": [],
   "source": [
    "df[\"green\"] = df.apply(calculate_dist(df_green), axis=1)"
   ]
  },
  {
   "cell_type": "code",
   "execution_count": 70,
   "metadata": {},
   "outputs": [],
   "source": [
    "df[\"ed_pre\"] = df.apply(calculate_dist(df_ed_pre), axis=1)"
   ]
  },
  {
   "cell_type": "code",
   "execution_count": 71,
   "metadata": {},
   "outputs": [],
   "source": [
    "df[\"ed_prim\"] = df.apply(calculate_dist(df_ed_prim), axis=1)"
   ]
  },
  {
   "cell_type": "code",
   "execution_count": 72,
   "metadata": {},
   "outputs": [],
   "source": [
    "df[\"ed_second\"] = df.apply(calculate_dist(df_ed_second), axis=1)"
   ]
  },
  {
   "cell_type": "code",
   "execution_count": 73,
   "metadata": {},
   "outputs": [],
   "source": [
    "df[\"ed_sup\"] = df.apply(calculate_dist(df_ed_sup), axis=1)"
   ]
  },
  {
   "cell_type": "markdown",
   "metadata": {},
   "source": [
    "Scale these badboys\"!"
   ]
  },
  {
   "cell_type": "code",
   "execution_count": 77,
   "metadata": {},
   "outputs": [],
   "source": [
    "from sklearn.preprocessing import MinMaxScaler\n",
    "scaler = MinMaxScaler()"
   ]
  },
  {
   "cell_type": "code",
   "execution_count": 78,
   "metadata": {},
   "outputs": [],
   "source": [
    "df[\"green_scaled\"] = scaler.fit_transform(df[['green']])"
   ]
  },
  {
   "cell_type": "code",
   "execution_count": 81,
   "metadata": {},
   "outputs": [],
   "source": [
    "df[\"ed_pre_scaled\"] = scaler.fit_transform(df[['ed_pre']])"
   ]
  },
  {
   "cell_type": "code",
   "execution_count": 82,
   "metadata": {},
   "outputs": [],
   "source": [
    "df[\"ed_prim_scaled\"] = scaler.fit_transform(df[['ed_prim']])"
   ]
  },
  {
   "cell_type": "code",
   "execution_count": 83,
   "metadata": {},
   "outputs": [],
   "source": [
    "df[\"ed_second_scaled\"] = scaler.fit_transform(df[['ed_second']])"
   ]
  },
  {
   "cell_type": "code",
   "execution_count": 84,
   "metadata": {},
   "outputs": [],
   "source": [
    "df[\"ed_sup_scaled\"] = scaler.fit_transform(df[['ed_sup']])"
   ]
  },
  {
   "cell_type": "code",
   "execution_count": 85,
   "metadata": {},
   "outputs": [
    {
     "data": {
      "text/html": [
       "<div>\n",
       "<style scoped>\n",
       "    .dataframe tbody tr th:only-of-type {\n",
       "        vertical-align: middle;\n",
       "    }\n",
       "\n",
       "    .dataframe tbody tr th {\n",
       "        vertical-align: top;\n",
       "    }\n",
       "\n",
       "    .dataframe thead th {\n",
       "        text-align: right;\n",
       "    }\n",
       "</style>\n",
       "<table border=\"1\" class=\"dataframe\">\n",
       "  <thead>\n",
       "    <tr style=\"text-align: right;\">\n",
       "      <th></th>\n",
       "      <th>long</th>\n",
       "      <th>lat</th>\n",
       "      <th>green</th>\n",
       "      <th>ed_pre</th>\n",
       "      <th>ed_prim</th>\n",
       "      <th>ed_second</th>\n",
       "      <th>ed_sup</th>\n",
       "      <th>green_scaled</th>\n",
       "      <th>ed_pre_scaled</th>\n",
       "      <th>ed_prim_scaled</th>\n",
       "      <th>ed_second_scaled</th>\n",
       "      <th>ed_sup_scaled</th>\n",
       "    </tr>\n",
       "  </thead>\n",
       "  <tbody>\n",
       "    <tr>\n",
       "      <th>count</th>\n",
       "      <td>1080.000000</td>\n",
       "      <td>1080.000000</td>\n",
       "      <td>1080.000000</td>\n",
       "      <td>1080.000000</td>\n",
       "      <td>1080.000000</td>\n",
       "      <td>1080.000000</td>\n",
       "      <td>1080.000000</td>\n",
       "      <td>1080.000000</td>\n",
       "      <td>1080.000000</td>\n",
       "      <td>1080.000000</td>\n",
       "      <td>1080.000000</td>\n",
       "      <td>1080.000000</td>\n",
       "    </tr>\n",
       "    <tr>\n",
       "      <th>mean</th>\n",
       "      <td>41.163750</td>\n",
       "      <td>-8.623750</td>\n",
       "      <td>97.984140</td>\n",
       "      <td>39.978064</td>\n",
       "      <td>62.827738</td>\n",
       "      <td>83.824697</td>\n",
       "      <td>69.311213</td>\n",
       "      <td>0.381497</td>\n",
       "      <td>0.257052</td>\n",
       "      <td>0.331112</td>\n",
       "      <td>0.408263</td>\n",
       "      <td>0.258086</td>\n",
       "    </tr>\n",
       "    <tr>\n",
       "      <th>std</th>\n",
       "      <td>0.014422</td>\n",
       "      <td>0.038983</td>\n",
       "      <td>54.064701</td>\n",
       "      <td>27.323371</td>\n",
       "      <td>34.734550</td>\n",
       "      <td>43.026535</td>\n",
       "      <td>50.398427</td>\n",
       "      <td>0.215064</td>\n",
       "      <td>0.181966</td>\n",
       "      <td>0.189804</td>\n",
       "      <td>0.213432</td>\n",
       "      <td>0.192294</td>\n",
       "    </tr>\n",
       "    <tr>\n",
       "      <th>min</th>\n",
       "      <td>41.140000</td>\n",
       "      <td>-8.690000</td>\n",
       "      <td>2.080153</td>\n",
       "      <td>1.379907</td>\n",
       "      <td>2.233591</td>\n",
       "      <td>1.521529</td>\n",
       "      <td>1.669363</td>\n",
       "      <td>0.000000</td>\n",
       "      <td>0.000000</td>\n",
       "      <td>0.000000</td>\n",
       "      <td>0.000000</td>\n",
       "      <td>0.000000</td>\n",
       "    </tr>\n",
       "    <tr>\n",
       "      <th>25%</th>\n",
       "      <td>41.151875</td>\n",
       "      <td>-8.657500</td>\n",
       "      <td>53.811507</td>\n",
       "      <td>19.464778</td>\n",
       "      <td>36.786573</td>\n",
       "      <td>50.427486</td>\n",
       "      <td>30.491485</td>\n",
       "      <td>0.205783</td>\n",
       "      <td>0.120440</td>\n",
       "      <td>0.188812</td>\n",
       "      <td>0.242597</td>\n",
       "      <td>0.109970</td>\n",
       "    </tr>\n",
       "    <tr>\n",
       "      <th>50%</th>\n",
       "      <td>41.163750</td>\n",
       "      <td>-8.623750</td>\n",
       "      <td>91.356868</td>\n",
       "      <td>32.283162</td>\n",
       "      <td>56.634541</td>\n",
       "      <td>80.809132</td>\n",
       "      <td>58.539605</td>\n",
       "      <td>0.355135</td>\n",
       "      <td>0.205807</td>\n",
       "      <td>0.297269</td>\n",
       "      <td>0.393305</td>\n",
       "      <td>0.216987</td>\n",
       "    </tr>\n",
       "    <tr>\n",
       "      <th>75%</th>\n",
       "      <td>41.175625</td>\n",
       "      <td>-8.590000</td>\n",
       "      <td>136.924915</td>\n",
       "      <td>55.378146</td>\n",
       "      <td>82.676931</td>\n",
       "      <td>117.178573</td>\n",
       "      <td>98.395686</td>\n",
       "      <td>0.536400</td>\n",
       "      <td>0.359612</td>\n",
       "      <td>0.439576</td>\n",
       "      <td>0.573715</td>\n",
       "      <td>0.369057</td>\n",
       "    </tr>\n",
       "    <tr>\n",
       "      <th>max</th>\n",
       "      <td>41.187500</td>\n",
       "      <td>-8.557500</td>\n",
       "      <td>253.468530</td>\n",
       "      <td>151.536710</td>\n",
       "      <td>185.235744</td>\n",
       "      <td>203.114878</td>\n",
       "      <td>263.759723</td>\n",
       "      <td>1.000000</td>\n",
       "      <td>1.000000</td>\n",
       "      <td>1.000000</td>\n",
       "      <td>1.000000</td>\n",
       "      <td>1.000000</td>\n",
       "    </tr>\n",
       "  </tbody>\n",
       "</table>\n",
       "</div>"
      ],
      "text/plain": [
       "              long          lat        green       ed_pre      ed_prim  \\\n",
       "count  1080.000000  1080.000000  1080.000000  1080.000000  1080.000000   \n",
       "mean     41.163750    -8.623750    97.984140    39.978064    62.827738   \n",
       "std       0.014422     0.038983    54.064701    27.323371    34.734550   \n",
       "min      41.140000    -8.690000     2.080153     1.379907     2.233591   \n",
       "25%      41.151875    -8.657500    53.811507    19.464778    36.786573   \n",
       "50%      41.163750    -8.623750    91.356868    32.283162    56.634541   \n",
       "75%      41.175625    -8.590000   136.924915    55.378146    82.676931   \n",
       "max      41.187500    -8.557500   253.468530   151.536710   185.235744   \n",
       "\n",
       "         ed_second       ed_sup  green_scaled  ed_pre_scaled  ed_prim_scaled  \\\n",
       "count  1080.000000  1080.000000   1080.000000    1080.000000     1080.000000   \n",
       "mean     83.824697    69.311213      0.381497       0.257052        0.331112   \n",
       "std      43.026535    50.398427      0.215064       0.181966        0.189804   \n",
       "min       1.521529     1.669363      0.000000       0.000000        0.000000   \n",
       "25%      50.427486    30.491485      0.205783       0.120440        0.188812   \n",
       "50%      80.809132    58.539605      0.355135       0.205807        0.297269   \n",
       "75%     117.178573    98.395686      0.536400       0.359612        0.439576   \n",
       "max     203.114878   263.759723      1.000000       1.000000        1.000000   \n",
       "\n",
       "       ed_second_scaled  ed_sup_scaled  \n",
       "count       1080.000000    1080.000000  \n",
       "mean           0.408263       0.258086  \n",
       "std            0.213432       0.192294  \n",
       "min            0.000000       0.000000  \n",
       "25%            0.242597       0.109970  \n",
       "50%            0.393305       0.216987  \n",
       "75%            0.573715       0.369057  \n",
       "max            1.000000       1.000000  "
      ]
     },
     "execution_count": 85,
     "metadata": {},
     "output_type": "execute_result"
    }
   ],
   "source": [
    "df.describe()"
   ]
  },
  {
   "cell_type": "code",
   "execution_count": 94,
   "metadata": {},
   "outputs": [],
   "source": [
    "weight_green = 0.2\n",
    "weight_ed_pre = 0.2\n",
    "weight_ed_prim = 0.2\n",
    "weight_ed_second = 0.2\n",
    "weight_ed_sup = 0.2"
   ]
  },
  {
   "cell_type": "code",
   "execution_count": 95,
   "metadata": {},
   "outputs": [],
   "source": [
    "df[\"QOL\"] = weight_green*df[\"green_scaled\"] + \\\n",
    "            weight_ed_pre*df[\"ed_pre_scaled\"] + \\\n",
    "            weight_ed_prim*df[\"ed_prim_scaled\"] + \\\n",
    "            weight_ed_second*df[\"ed_second_scaled\"] + \\\n",
    "            weight_ed_sup*df[\"ed_sup_scaled\"]"
   ]
  },
  {
   "cell_type": "code",
   "execution_count": 97,
   "metadata": {},
   "outputs": [
    {
     "data": {
      "text/html": [
       "<div>\n",
       "<style scoped>\n",
       "    .dataframe tbody tr th:only-of-type {\n",
       "        vertical-align: middle;\n",
       "    }\n",
       "\n",
       "    .dataframe tbody tr th {\n",
       "        vertical-align: top;\n",
       "    }\n",
       "\n",
       "    .dataframe thead th {\n",
       "        text-align: right;\n",
       "    }\n",
       "</style>\n",
       "<table border=\"1\" class=\"dataframe\">\n",
       "  <thead>\n",
       "    <tr style=\"text-align: right;\">\n",
       "      <th></th>\n",
       "      <th>long</th>\n",
       "      <th>lat</th>\n",
       "      <th>green</th>\n",
       "      <th>ed_pre</th>\n",
       "      <th>ed_prim</th>\n",
       "      <th>ed_second</th>\n",
       "      <th>ed_sup</th>\n",
       "      <th>green_scaled</th>\n",
       "      <th>ed_pre_scaled</th>\n",
       "      <th>ed_prim_scaled</th>\n",
       "      <th>ed_second_scaled</th>\n",
       "      <th>ed_sup_scaled</th>\n",
       "      <th>QOL</th>\n",
       "    </tr>\n",
       "  </thead>\n",
       "  <tbody>\n",
       "    <tr>\n",
       "      <th>count</th>\n",
       "      <td>1080.000000</td>\n",
       "      <td>1080.000000</td>\n",
       "      <td>1080.000000</td>\n",
       "      <td>1080.000000</td>\n",
       "      <td>1080.000000</td>\n",
       "      <td>1080.000000</td>\n",
       "      <td>1080.000000</td>\n",
       "      <td>1080.000000</td>\n",
       "      <td>1080.000000</td>\n",
       "      <td>1080.000000</td>\n",
       "      <td>1080.000000</td>\n",
       "      <td>1080.000000</td>\n",
       "      <td>1080.000000</td>\n",
       "    </tr>\n",
       "    <tr>\n",
       "      <th>mean</th>\n",
       "      <td>41.163750</td>\n",
       "      <td>-8.623750</td>\n",
       "      <td>97.984140</td>\n",
       "      <td>39.978064</td>\n",
       "      <td>62.827738</td>\n",
       "      <td>83.824697</td>\n",
       "      <td>69.311213</td>\n",
       "      <td>0.381497</td>\n",
       "      <td>0.257052</td>\n",
       "      <td>0.331112</td>\n",
       "      <td>0.408263</td>\n",
       "      <td>0.258086</td>\n",
       "      <td>0.327202</td>\n",
       "    </tr>\n",
       "    <tr>\n",
       "      <th>std</th>\n",
       "      <td>0.014422</td>\n",
       "      <td>0.038983</td>\n",
       "      <td>54.064701</td>\n",
       "      <td>27.323371</td>\n",
       "      <td>34.734550</td>\n",
       "      <td>43.026535</td>\n",
       "      <td>50.398427</td>\n",
       "      <td>0.215064</td>\n",
       "      <td>0.181966</td>\n",
       "      <td>0.189804</td>\n",
       "      <td>0.213432</td>\n",
       "      <td>0.192294</td>\n",
       "      <td>0.155910</td>\n",
       "    </tr>\n",
       "    <tr>\n",
       "      <th>min</th>\n",
       "      <td>41.140000</td>\n",
       "      <td>-8.690000</td>\n",
       "      <td>2.080153</td>\n",
       "      <td>1.379907</td>\n",
       "      <td>2.233591</td>\n",
       "      <td>1.521529</td>\n",
       "      <td>1.669363</td>\n",
       "      <td>0.000000</td>\n",
       "      <td>0.000000</td>\n",
       "      <td>0.000000</td>\n",
       "      <td>0.000000</td>\n",
       "      <td>0.000000</td>\n",
       "      <td>0.066844</td>\n",
       "    </tr>\n",
       "    <tr>\n",
       "      <th>25%</th>\n",
       "      <td>41.151875</td>\n",
       "      <td>-8.657500</td>\n",
       "      <td>53.811507</td>\n",
       "      <td>19.464778</td>\n",
       "      <td>36.786573</td>\n",
       "      <td>50.427486</td>\n",
       "      <td>30.491485</td>\n",
       "      <td>0.205783</td>\n",
       "      <td>0.120440</td>\n",
       "      <td>0.188812</td>\n",
       "      <td>0.242597</td>\n",
       "      <td>0.109970</td>\n",
       "      <td>0.208829</td>\n",
       "    </tr>\n",
       "    <tr>\n",
       "      <th>50%</th>\n",
       "      <td>41.163750</td>\n",
       "      <td>-8.623750</td>\n",
       "      <td>91.356868</td>\n",
       "      <td>32.283162</td>\n",
       "      <td>56.634541</td>\n",
       "      <td>80.809132</td>\n",
       "      <td>58.539605</td>\n",
       "      <td>0.355135</td>\n",
       "      <td>0.205807</td>\n",
       "      <td>0.297269</td>\n",
       "      <td>0.393305</td>\n",
       "      <td>0.216987</td>\n",
       "      <td>0.295315</td>\n",
       "    </tr>\n",
       "    <tr>\n",
       "      <th>75%</th>\n",
       "      <td>41.175625</td>\n",
       "      <td>-8.590000</td>\n",
       "      <td>136.924915</td>\n",
       "      <td>55.378146</td>\n",
       "      <td>82.676931</td>\n",
       "      <td>117.178573</td>\n",
       "      <td>98.395686</td>\n",
       "      <td>0.536400</td>\n",
       "      <td>0.359612</td>\n",
       "      <td>0.439576</td>\n",
       "      <td>0.573715</td>\n",
       "      <td>0.369057</td>\n",
       "      <td>0.437428</td>\n",
       "    </tr>\n",
       "    <tr>\n",
       "      <th>max</th>\n",
       "      <td>41.187500</td>\n",
       "      <td>-8.557500</td>\n",
       "      <td>253.468530</td>\n",
       "      <td>151.536710</td>\n",
       "      <td>185.235744</td>\n",
       "      <td>203.114878</td>\n",
       "      <td>263.759723</td>\n",
       "      <td>1.000000</td>\n",
       "      <td>1.000000</td>\n",
       "      <td>1.000000</td>\n",
       "      <td>1.000000</td>\n",
       "      <td>1.000000</td>\n",
       "      <td>0.878107</td>\n",
       "    </tr>\n",
       "  </tbody>\n",
       "</table>\n",
       "</div>"
      ],
      "text/plain": [
       "              long          lat        green       ed_pre      ed_prim  \\\n",
       "count  1080.000000  1080.000000  1080.000000  1080.000000  1080.000000   \n",
       "mean     41.163750    -8.623750    97.984140    39.978064    62.827738   \n",
       "std       0.014422     0.038983    54.064701    27.323371    34.734550   \n",
       "min      41.140000    -8.690000     2.080153     1.379907     2.233591   \n",
       "25%      41.151875    -8.657500    53.811507    19.464778    36.786573   \n",
       "50%      41.163750    -8.623750    91.356868    32.283162    56.634541   \n",
       "75%      41.175625    -8.590000   136.924915    55.378146    82.676931   \n",
       "max      41.187500    -8.557500   253.468530   151.536710   185.235744   \n",
       "\n",
       "         ed_second       ed_sup  green_scaled  ed_pre_scaled  ed_prim_scaled  \\\n",
       "count  1080.000000  1080.000000   1080.000000    1080.000000     1080.000000   \n",
       "mean     83.824697    69.311213      0.381497       0.257052        0.331112   \n",
       "std      43.026535    50.398427      0.215064       0.181966        0.189804   \n",
       "min       1.521529     1.669363      0.000000       0.000000        0.000000   \n",
       "25%      50.427486    30.491485      0.205783       0.120440        0.188812   \n",
       "50%      80.809132    58.539605      0.355135       0.205807        0.297269   \n",
       "75%     117.178573    98.395686      0.536400       0.359612        0.439576   \n",
       "max     203.114878   263.759723      1.000000       1.000000        1.000000   \n",
       "\n",
       "       ed_second_scaled  ed_sup_scaled          QOL  \n",
       "count       1080.000000    1080.000000  1080.000000  \n",
       "mean           0.408263       0.258086     0.327202  \n",
       "std            0.213432       0.192294     0.155910  \n",
       "min            0.000000       0.000000     0.066844  \n",
       "25%            0.242597       0.109970     0.208829  \n",
       "50%            0.393305       0.216987     0.295315  \n",
       "75%            0.573715       0.369057     0.437428  \n",
       "max            1.000000       1.000000     0.878107  "
      ]
     },
     "execution_count": 97,
     "metadata": {},
     "output_type": "execute_result"
    }
   ],
   "source": [
    "df.describe()"
   ]
  },
  {
   "cell_type": "code",
   "execution_count": null,
   "metadata": {},
   "outputs": [],
   "source": []
  }
 ],
 "metadata": {
  "kernelspec": {
   "display_name": "Python 3",
   "language": "python",
   "name": "python3"
  },
  "language_info": {
   "codemirror_mode": {
    "name": "ipython",
    "version": 3
   },
   "file_extension": ".py",
   "mimetype": "text/x-python",
   "name": "python",
   "nbconvert_exporter": "python",
   "pygments_lexer": "ipython3",
   "version": "3.6.7"
  }
 },
 "nbformat": 4,
 "nbformat_minor": 2
}
